{
 "cells": [
  {
   "cell_type": "code",
   "execution_count": null,
   "metadata": {},
   "outputs": [],
   "source": [
    "from glob import glob\n",
    "import pandas as pd"
   ]
  },
  {
   "cell_type": "code",
   "execution_count": null,
   "metadata": {},
   "outputs": [],
   "source": [
    "import numpy as np"
   ]
  },
  {
   "cell_type": "code",
   "execution_count": null,
   "metadata": {},
   "outputs": [],
   "source": [
    "amino_acids_short = {\"ALA\":\"A\", \"ARG\":\"R\", \"ASN\":\"N\", \"ASP\":\"D\", \"CYS\":\"C\", \"GLU\":\"E\", \"GLN\":\"Q\", \"GLY\":\"G\", \"HIS\":\"H\", \"ILE\":\"I\", \"LEU\":\"L\", \"LYS\":\"K\", \"MET\":\"M\", \"PHE\":\"F\", \"PRO\":\"P\", \"SER\":\"S\", \"THR\":\"T\", \"TRP\":\"W\", \"TYR\":\"Y\", \"VAL\":\"V\", \"SEC\":\"U\", \"PYL\":\"O\"}"
   ]
  },
  {
   "cell_type": "code",
   "execution_count": null,
   "metadata": {},
   "outputs": [],
   "source": [
    "pdbs = glob(\"/home/dlsrnsi/DTI/scPDB/scPDB/*/\")"
   ]
  },
  {
   "cell_type": "code",
   "execution_count": null,
   "metadata": {},
   "outputs": [],
   "source": [
    "from Bio import PDB"
   ]
  },
  {
   "cell_type": "code",
   "execution_count": null,
   "metadata": {},
   "outputs": [],
   "source": [
    "pdb_parser = PDB.PDBParser(QUIET=True)"
   ]
  },
  {
   "cell_type": "code",
   "execution_count": null,
   "metadata": {},
   "outputs": [],
   "source": [
    "pdb_path = \"./scPDB/\""
   ]
  },
  {
   "cell_type": "code",
   "execution_count": null,
   "metadata": {},
   "outputs": [],
   "source": [
    "def get_protein(scpdb):\n",
    "    try:\n",
    "        pdb_name = scpdb.split(\"_\")[0]\n",
    "        structure = pdb_parser.get_structure(pdb_name, pdb_path+scpdb+\"/protein.pdb\")\n",
    "        chain_name = list(structure[0].child_dict.keys())[0]\n",
    "        chain = structure[0][chain_name]\n",
    "        residues = [residue for residue in chain.get_residues() if residue.resname in amino_acids_short.keys()]\n",
    "        pdb_sequence = \"\".join([amino_acids_short[residue.resname] for residue in residues])\n",
    "        residue_number = [residue.get_id()[1] for residue in residues]\n",
    "        return chain_name, pdb_sequence, residue_number\n",
    "    except Exception as e:\n",
    "        print(scpdb,e)\n",
    "        return None"
   ]
  },
  {
   "cell_type": "code",
   "execution_count": null,
   "metadata": {},
   "outputs": [],
   "source": [
    "scpdbs = [scpdb.split(\"/\")[-2] for scpdb in pdbs]"
   ]
  },
  {
   "cell_type": "code",
   "execution_count": null,
   "metadata": {},
   "outputs": [],
   "source": [
    "scpdb_df = pd.DataFrame({\"scPDB\":scpdbs})"
   ]
  },
  {
   "cell_type": "code",
   "execution_count": null,
   "metadata": {},
   "outputs": [],
   "source": [
    "from multiprocessing import Process, Queue, Pool\n",
    "def get_pdb_info_bulk(df):\n",
    "    return df.scPDB.map(get_protein)\n",
    "\n",
    "def parallelize_dataframe(df, func, num_partitions=50):\n",
    "    df_split = np.array_split(df, num_partitions)\n",
    "    pool = Pool(num_partitions)\n",
    "    results = pool.map(func, df_split)\n",
    "    pool.close()\n",
    "    pool.join()\n",
    "    return results"
   ]
  },
  {
   "cell_type": "code",
   "execution_count": null,
   "metadata": {},
   "outputs": [],
   "source": [
    "pdb_info_results = parallelize_dataframe(scpdb_df, get_pdb_info_bulk)"
   ]
  },
  {
   "cell_type": "code",
   "execution_count": null,
   "metadata": {},
   "outputs": [],
   "source": [
    "pdb_info_results = pd.concat(pdb_info_results)"
   ]
  },
  {
   "cell_type": "code",
   "execution_count": null,
   "metadata": {},
   "outputs": [],
   "source": [
    "scpdb_df[\"chain\"] = pdb_info_results.map(lambda a: a[0] if a is not None else None)"
   ]
  },
  {
   "cell_type": "code",
   "execution_count": null,
   "metadata": {},
   "outputs": [],
   "source": [
    "scpdb_df[\"PDB_Sequence\"] = pdb_info_results.map(lambda a: a[1] if a is not None else None)"
   ]
  },
  {
   "cell_type": "code",
   "execution_count": null,
   "metadata": {},
   "outputs": [],
   "source": [
    "scpdb_df[\"PDB_Sequence_index\"] = pdb_info_results.map(lambda a: a[2] if a is not None else None)"
   ]
  },
  {
   "cell_type": "code",
   "execution_count": null,
   "metadata": {},
   "outputs": [],
   "source": [
    "from urllib.request import urlopen\n",
    "import urllib\n",
    "import json\n",
    "from io import StringIO"
   ]
  },
  {
   "cell_type": "code",
   "execution_count": null,
   "metadata": {},
   "outputs": [],
   "source": [
    "def get_uniprot(row):\n",
    "    try:\n",
    "        pdb = row.PDB\n",
    "        chain = row.chain\n",
    "        opened = urllib.request.urlopen(\"http://www.bioinf.org.uk/servers/pdbsws/query.cgi?plain=2&qtype=pdb&id=%s&chain=%s&\"%(pdb, chain))\n",
    "        read = opened.read()\n",
    "        chain_dic = json.load(StringIO(read.decode(\"utf-8\")))\n",
    "        acc = chain_dic['pdbsws'][0][\"AC\"]\n",
    "        opened.close()\n",
    "        return acc\n",
    "    except Exception as e:\n",
    "        print(row.PDB, e)\n",
    "        return None"
   ]
  },
  {
   "cell_type": "code",
   "execution_count": null,
   "metadata": {},
   "outputs": [],
   "source": [
    "scpdb_df[\"PDB\"] = scpdb_df.scPDB.map(lambda a: a.split(\"_\")[0])"
   ]
  },
  {
   "cell_type": "code",
   "execution_count": null,
   "metadata": {},
   "outputs": [],
   "source": [
    "get_uniprot(scpdb_df.loc[0])"
   ]
  },
  {
   "cell_type": "code",
   "execution_count": null,
   "metadata": {},
   "outputs": [],
   "source": [
    "scpdb_df = scpdb_df.dropna()"
   ]
  },
  {
   "cell_type": "code",
   "execution_count": null,
   "metadata": {},
   "outputs": [],
   "source": [
    "def get_uniprot_id_bulk(df):\n",
    "    return df.apply(get_uniprot, axis=1)"
   ]
  },
  {
   "cell_type": "code",
   "execution_count": null,
   "metadata": {},
   "outputs": [],
   "source": [
    "uniprot_ids = parallelize_dataframe(scpdb_df, get_uniprot_id_bulk, num_partitions=10)"
   ]
  },
  {
   "cell_type": "code",
   "execution_count": null,
   "metadata": {},
   "outputs": [],
   "source": [
    "scpdb_df[\"Protein_ID\"] =  pd.concat(uniprot_ids)"
   ]
  },
  {
   "cell_type": "code",
   "execution_count": null,
   "metadata": {},
   "outputs": [],
   "source": [
    "scpdb_df = scpdb_df.loc[scpdb_df.Protein_ID.isna()==False]"
   ]
  },
  {
   "cell_type": "code",
   "execution_count": null,
   "metadata": {},
   "outputs": [],
   "source": [
    "protein_ids = scpdb_df.Protein_ID.unique()"
   ]
  },
  {
   "cell_type": "code",
   "execution_count": null,
   "metadata": {},
   "outputs": [],
   "source": [
    "import urllib\n",
    "uniprot_url = \"https://www.uniprot.org/uniprot/{0}.fasta\"\n",
    "from Bio import Entrez\n",
    " \n",
    "def get_protein_sequence(protein_id):\n",
    "    try:\n",
    "        return get_seq_from_uniprot_acc(protein_id)\n",
    "    except:\n",
    "        print(protein_id)\n",
    "        return get_seq_from_genepept(protein_id)\n",
    " \n",
    " \n",
    "def get_seq_from_uniprot_acc(uniprot_acc):\n",
    "    opened = urllib.request.urlopen(uniprot_url.format(uniprot_acc))\n",
    "    lines = opened.readlines()\n",
    "    return \"\".join([line.decode(\"utf-8\").rstrip() for line in lines[1:]])\n",
    " \n",
    "def get_seq_from_genepept(protein_id):\n",
    "    try:\n",
    "        fetched = Entrez.efetch(db=\"protein\",id=protein_id, rettype=\"fasta\", retmode=\"text\")\n",
    "        fasta = fetched.read().splitlines()\n",
    "        fasta = \"\".join(list(filter(None, fasta))[1:])\n",
    "        return fasta\n",
    "    except:\n",
    "        print(protein_id+' is not found')\n",
    "        return None"
   ]
  },
  {
   "cell_type": "code",
   "execution_count": null,
   "metadata": {},
   "outputs": [],
   "source": [
    "def get_protein_bulk_sequence(protein_ids):\n",
    "    return {protein_id:get_protein_sequence(protein_id) for protein_id in protein_ids}\n",
    "\n",
    "def parallelize_function(array, func, num_partitions=50):\n",
    "    array_split = np.array_split(array, num_partitions)\n",
    "    pool = Pool(num_partitions)\n",
    "    results = pool.map(func, array_split)\n",
    "    pool.close()\n",
    "    pool.join()\n",
    "    return results"
   ]
  },
  {
   "cell_type": "code",
   "execution_count": null,
   "metadata": {},
   "outputs": [],
   "source": [
    "len(protein_ids)"
   ]
  },
  {
   "cell_type": "code",
   "execution_count": null,
   "metadata": {},
   "outputs": [],
   "source": [
    "sequences = parallelize_function(protein_ids, get_protein_bulk_sequence, 20)"
   ]
  },
  {
   "cell_type": "code",
   "execution_count": null,
   "metadata": {},
   "outputs": [],
   "source": [
    "sequence_dic = {}\n",
    "for sequence in sequences:\n",
    "    sequence_dic.update(sequence)"
   ]
  },
  {
   "cell_type": "code",
   "execution_count": null,
   "metadata": {},
   "outputs": [],
   "source": [
    "scpdb_df[\"Sequence\"] = scpdb_df.Protein_ID.map(lambda a: sequence_dic[a])"
   ]
  },
  {
   "cell_type": "code",
   "execution_count": null,
   "metadata": {},
   "outputs": [],
   "source": [
    "from rdkit import Chem\n",
    "from rdkit.Chem import AllChem"
   ]
  },
  {
   "cell_type": "code",
   "execution_count": null,
   "metadata": {},
   "outputs": [],
   "source": [
    "scpdb_df.head()"
   ]
  },
  {
   "cell_type": "code",
   "execution_count": null,
   "metadata": {},
   "outputs": [],
   "source": [
    "def get_ligand(row):\n",
    "    try:\n",
    "        scpdb = row.scPDB\n",
    "        mol = Chem.SDMolSupplier(pdb_path+scpdb+\"/ligand.sdf\")[0]\n",
    "        fp = AllChem.GetMorganFingerprintAsBitVect(mol, 2, nBits=2048)\n",
    "        pdb = pdb_parser.get_structure(scpdb, pdb_path+scpdb+\"/ligand.pdb\")\n",
    "        ligand_name = list(pdb[0].get_residues())[0].resname\n",
    "        return ligand_name, Chem.MolToSmiles(mol)\n",
    "    except Exception as e:\n",
    "        print(scpdb, e)"
   ]
  },
  {
   "cell_type": "code",
   "execution_count": null,
   "metadata": {},
   "outputs": [],
   "source": [
    "ligands = scpdb_df.apply(get_ligand, axis=1)"
   ]
  },
  {
   "cell_type": "code",
   "execution_count": null,
   "metadata": {},
   "outputs": [],
   "source": [
    "scpdb_df[\"Compound_ID\"] = ligands.map(lambda a: a[0] if a is not None else None)"
   ]
  },
  {
   "cell_type": "code",
   "execution_count": null,
   "metadata": {},
   "outputs": [],
   "source": [
    "scpdb_df[\"SMILES\"] = ligands.map(lambda a: a[1] if a is not None else None)"
   ]
  },
  {
   "cell_type": "code",
   "execution_count": null,
   "metadata": {},
   "outputs": [],
   "source": [
    "scpdb_df = scpdb_df.dropna()"
   ]
  },
  {
   "cell_type": "code",
   "execution_count": null,
   "metadata": {},
   "outputs": [],
   "source": [
    "scpdb_df[\"binding_index\"] = scpdb_df.apply(get_binding_index, axis=1)"
   ]
  },
  {
   "cell_type": "code",
   "execution_count": null,
   "metadata": {},
   "outputs": [],
   "source": [
    "from biopandas.mol2 import PandasMol2"
   ]
  },
  {
   "cell_type": "code",
   "execution_count": null,
   "metadata": {},
   "outputs": [],
   "source": [
    "bi_df = PandasMol2().read_mol2(pdb_path+\"1uh5_2\"+\"/site.mol2\").df"
   ]
  },
  {
   "cell_type": "code",
   "execution_count": null,
   "metadata": {},
   "outputs": [],
   "source": [
    "bi_df = bi_df.drop_duplicates(\"subst_name\")"
   ]
  },
  {
   "cell_type": "code",
   "execution_count": null,
   "metadata": {},
   "outputs": [],
   "source": [
    "def get_binding_index(row):\n",
    "    try:\n",
    "        pdb_name = row.PDB\n",
    "        scpdb = row.scPDB\n",
    "        bi_df = PandasMol2().read_mol2(pdb_path+scpdb+\"/site.mol2\").df\n",
    "        bi_df = bi_df.drop_duplicates(\"subst_name\")\n",
    "        bi_df = bi_df.loc[bi_df.subst_name.map(lambda a: a[:3] in amino_acids_short.keys())]\n",
    "        binding_index = [int(residue[3:]) for residue in bi_df.subst_name.unique()]\n",
    "        return binding_index\n",
    "    except Exception as e:\n",
    "        print(scpdb,e)\n",
    "        return None"
   ]
  },
  {
   "cell_type": "code",
   "execution_count": null,
   "metadata": {},
   "outputs": [],
   "source": [
    "scpdb_df[\"PDB_binding_index\"] = scpdb_df.apply(get_binding_index, axis=1)"
   ]
  },
  {
   "cell_type": "code",
   "execution_count": null,
   "metadata": {},
   "outputs": [],
   "source": [
    "def get_chain_end(row):\n",
    "    try:\n",
    "        scpdb = row.scPDB\n",
    "        pdb_name = scpdb.split(\"_\")[0]\n",
    "        structure = pdb_parser.get_structure(pdb_name, pdb_path+scpdb+\"/pdb_file.pdb\")\n",
    "        chain_name = row.chain#list(structure[0].child_dict.keys())[0]\n",
    "        chain = structure[0][chain_name]\n",
    "        residues = [residue for residue in chain.get_residues() if residue.resname in amino_acids_short.keys()]\n",
    "        #pdb_sequence = \"\".join([amino_acids_short[residue.resname] for residue in residues])\n",
    "        #residue_number = [residue.get_id()[1] for residue in residues]\n",
    "        return len(residues)#chain_name, pdb_sequence, residue_number\n",
    "    except Exception as e:\n",
    "        print(scpdb,e)\n",
    "        return None"
   ]
  },
  {
   "cell_type": "code",
   "execution_count": null,
   "metadata": {},
   "outputs": [],
   "source": [
    "def get_chain_end_bulk(df):\n",
    "    return df.apply(get_chain_end, axis=1)"
   ]
  },
  {
   "cell_type": "code",
   "execution_count": null,
   "metadata": {},
   "outputs": [],
   "source": [
    "chain_ends = parallelize_function(scpdb_df, get_chain_end_bulk, 50)"
   ]
  },
  {
   "cell_type": "code",
   "execution_count": null,
   "metadata": {},
   "outputs": [],
   "source": [
    "scpdb_df[\"chain_end\"] = pd.concat(chain_ends)"
   ]
  },
  {
   "cell_type": "code",
   "execution_count": null,
   "metadata": {},
   "outputs": [],
   "source": [
    "def get_seq_number(seq):\n",
    "    numbers = []\n",
    "    i = 0\n",
    "    for aa in seq:\n",
    "        numbers.append(i)\n",
    "        if aa!='-':\n",
    "            i+=1\n",
    "    return numbers\n",
    "\n",
    "def get_index_of_number(numbers, number):\n",
    "    if number==0:\n",
    "        for i, j in enumerate(numbers):\n",
    "            #print(j)\n",
    "            if j!=0:\n",
    "                return i-1\n",
    "    else:\n",
    "        i = 0\n",
    "        for i, j in enumerate(numbers):\n",
    "            if j==number:\n",
    "                return i"
   ]
  },
  {
   "cell_type": "code",
   "execution_count": null,
   "metadata": {},
   "outputs": [],
   "source": [
    "def get_index_adjusted(row):\n",
    "    try:\n",
    "        alignment_result = pairwise2.align.localxx(row[\"Sequence\"], row[\"PDB_Sequence\"])\n",
    "        orig_seq = alignment_result[0][0]\n",
    "        orig_seq_number = get_seq_number(orig_seq)\n",
    "        highest_result = alignment_result[0][1]\n",
    "        pdb_seq_number = get_seq_number(highest_result)\n",
    "        moving_ind = 0\n",
    "        k = 0\n",
    "        n_gap = 0\n",
    "        results = []\n",
    "        is_start_gap = True\n",
    "        for i, j in zip(orig_seq, highest_result):\n",
    "            if j!=\"-\":\n",
    "                is_start_gap = False\n",
    "                results.append(moving_ind)\n",
    "            if i==\"-\":\n",
    "                moving_ind -= 1\n",
    "            moving_ind += 1\n",
    "        binding_index_on_pdb_sequence = [row[\"PDB_Sequence_index\"].index(binding_index) for binding_index in row.PDB_binding_index if binding_index in row.PDB_Sequence_index]\n",
    "        binding_index_adjusted = [results[index] for index in binding_index_on_pdb_sequence if index < len(results)]\n",
    "        aa_in_pdb = [row.PDB_Sequence[i] for i in binding_index_on_pdb_sequence]\n",
    "        aa_in_seq = [row.Sequence[i] for i in binding_index_adjusted]\n",
    "        n_not_matching = 0\n",
    "        for a_p, a_s in zip(aa_in_pdb, aa_in_seq):\n",
    "            if a_p!=a_s:\n",
    "                n_not_matching +=1\n",
    "        if n_not_matching>0:\n",
    "            print(row.PDB, row.name, \"shows %d mismatch from %d binding_region\"%(n_not_matching, len(binding_index_adjusted)))\n",
    "            if n_not_matching/len(binding_index_adjusted)>0.5:\n",
    "                print(row.PDB, \"dropping currpted PDBBind\")\n",
    "                return None\n",
    "        return binding_index_adjusted\n",
    "    except Exception as e:\n",
    "        print(row.PDB, e)\n",
    "        return None"
   ]
  },
  {
   "cell_type": "code",
   "execution_count": null,
   "metadata": {},
   "outputs": [],
   "source": [
    "from Bio import pairwise2"
   ]
  },
  {
   "cell_type": "code",
   "execution_count": null,
   "metadata": {},
   "outputs": [],
   "source": [
    "scpdb_with_single_chain = scpdb_df.loc[scpdb_df.PDB_Sequence.map(len)<=scpdb_df.chain_end]"
   ]
  },
  {
   "cell_type": "code",
   "execution_count": null,
   "metadata": {},
   "outputs": [],
   "source": [
    "scpdb_with_single_chain.shape"
   ]
  },
  {
   "cell_type": "code",
   "execution_count": null,
   "metadata": {},
   "outputs": [],
   "source": [
    "scpdb_with_single_chain[\"binding_index\"] = scpdb_with_single_chain.apply(get_index_adjusted, axis=1)"
   ]
  },
  {
   "cell_type": "code",
   "execution_count": null,
   "metadata": {},
   "outputs": [],
   "source": [
    "def get_index_adjusted_for_multichain(row):\n",
    "    try:\n",
    "        pdb_sequence = row.PDB_Sequence[:row.chain_end]\n",
    "        alignment_result = pairwise2.align.localxx(row[\"Sequence\"], pdb_sequence)\n",
    "        orig_seq = alignment_result[0][0]\n",
    "        orig_seq_number = get_seq_number(orig_seq)\n",
    "        highest_result = alignment_result[0][1]\n",
    "        pdb_seq_number = get_seq_number(highest_result)\n",
    "        moving_ind = 0\n",
    "        k = 0\n",
    "        n_gap = 0\n",
    "        results = []\n",
    "        is_start_gap = True\n",
    "        for i, j in zip(orig_seq, highest_result):\n",
    "            if j!=\"-\":\n",
    "                is_start_gap = False\n",
    "                results.append(moving_ind)\n",
    "            if i==\"-\":\n",
    "                moving_ind -= 1\n",
    "            moving_ind += 1\n",
    "        pdb_binding_index = [binding_index for binding_index in row.PDB_binding_index if binding_index <= row.chain_end]\n",
    "        binding_index_on_pdb_sequence = [row[\"PDB_Sequence_index\"].index(binding_index) for binding_index in pdb_binding_index if binding_index in row.PDB_Sequence_index]\n",
    "        binding_index_adjusted = [results[index] for index in binding_index_on_pdb_sequence if index < len(results)]\n",
    "        aa_in_pdb = [row.PDB_Sequence[i] for i in binding_index_on_pdb_sequence]\n",
    "        aa_in_seq = [row.Sequence[i] for i in binding_index_adjusted]\n",
    "        n_not_matching = 0\n",
    "        for a_p, a_s in zip(aa_in_pdb, aa_in_seq):\n",
    "            if a_p!=a_s:\n",
    "                n_not_matching +=1\n",
    "        if n_not_matching>0:\n",
    "            print(row.PDB, row.name, \"shows %d mismatch from %d binding_region\"%(n_not_matching, len(binding_index_adjusted)))\n",
    "            if n_not_matching/len(binding_index_adjusted)>0.5:\n",
    "                print(row.PDB, \"dropping currpted PDBBind\")\n",
    "                return None\n",
    "        return binding_index_adjusted\n",
    "    except Exception as e:\n",
    "        print(row.PDB, e)\n",
    "        return None"
   ]
  },
  {
   "cell_type": "code",
   "execution_count": null,
   "metadata": {},
   "outputs": [],
   "source": [
    "scpdb_with_multi_chain = scpdb_df.loc[scpdb_df.PDB_Sequence.map(len)>scpdb_df.chain_end]"
   ]
  },
  {
   "cell_type": "code",
   "execution_count": null,
   "metadata": {},
   "outputs": [],
   "source": [
    "scpdb_with_multi_chain[\"binding_index\"] = scpdb_df.apply(get_index_adjusted_for_multichain, axis=1)"
   ]
  },
  {
   "cell_type": "code",
   "execution_count": null,
   "metadata": {},
   "outputs": [],
   "source": [
    "scpdb_full = pd.concat([scpdb_with_single_chain, scpdb_with_multi_chain])"
   ]
  },
  {
   "cell_type": "code",
   "execution_count": null,
   "metadata": {},
   "outputs": [],
   "source": [
    "scpdb_full = scpdb_full.dropna()"
   ]
  },
  {
   "cell_type": "code",
   "execution_count": null,
   "metadata": {},
   "outputs": [],
   "source": [
    "scpdb_full = scpdb_full.loc[scpdb_full.binding_index.map(len)>0]"
   ]
  },
  {
   "cell_type": "code",
   "execution_count": null,
   "metadata": {},
   "outputs": [],
   "source": [
    "def get_binding_region_from_index(row):\n",
    "    binding_index = np.sort(row.binding_index)\n",
    "    if len(binding_index)==0:\n",
    "        return []\n",
    "    protein_len = len(row.Sequence)\n",
    "    first_binding_start = binding_index[0] - 2\n",
    "    first_binding_end = binding_index[0] + 3\n",
    "    binding_region = [[first_binding_start, first_binding_end]]\n",
    "    for i in range(1,len(binding_index)):\n",
    "        binding_region_comp = binding_region[-1]\n",
    "        if binding_index[i] is None:\n",
    "            continue\n",
    "        binding_start  = binding_index[i] - 2\n",
    "        binding_end  = binding_index[i] + 3\n",
    "        if binding_region_comp[1] >= binding_start:\n",
    "            binding_region[-1] = [binding_region_comp[0], binding_end]\n",
    "        else:\n",
    "            binding_region.append([binding_start, binding_end])\n",
    "    binding_region_modified = []\n",
    "    if binding_region[0][0]<0:\n",
    "        binding_region[0][0] = 0\n",
    "    if binding_region[-1][-1]>protein_len:\n",
    "        binding_region[-1][-1] = protein_len\n",
    "    return binding_region"
   ]
  },
  {
   "cell_type": "code",
   "execution_count": null,
   "metadata": {},
   "outputs": [],
   "source": [
    "scpdb_full[\"binding_region\"] = scpdb_full.apply(get_binding_region_from_index, axis=1)"
   ]
  },
  {
   "cell_type": "code",
   "execution_count": null,
   "metadata": {},
   "outputs": [],
   "source": [
    "scpdb_full"
   ]
  },
  {
   "cell_type": "code",
   "execution_count": 216,
   "metadata": {},
   "outputs": [],
   "source": [
    "scpdb_full.to_csv(\"./scPDB_HoTS.tsv\", sep='\\t', index=False)"
   ]
  },
  {
   "cell_type": "code",
   "execution_count": null,
   "metadata": {},
   "outputs": [],
   "source": []
  }
 ],
 "metadata": {
  "kernelspec": {
   "display_name": "Python 3",
   "language": "python",
   "name": "python3"
  },
  "language_info": {
   "codemirror_mode": {
    "name": "ipython",
    "version": 3
   },
   "file_extension": ".py",
   "mimetype": "text/x-python",
   "name": "python",
   "nbconvert_exporter": "python",
   "pygments_lexer": "ipython3",
   "version": "3.6.8"
  }
 },
 "nbformat": 4,
 "nbformat_minor": 2
}
