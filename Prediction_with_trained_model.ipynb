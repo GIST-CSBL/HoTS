{
 "cells": [
  {
   "cell_type": "markdown",
   "metadata": {},
   "source": [
    "# Predict DTIs and BR with trained Model"
   ]
  },
  {
   "cell_type": "code",
   "execution_count": 1,
   "metadata": {},
   "outputs": [
    {
     "name": "stderr",
     "output_type": "stream",
     "text": [
      "Using TensorFlow backend.\n",
      "/usr/local/lib/python3.6/dist-packages/tensorflow/python/framework/dtypes.py:523: FutureWarning: Passing (type, 1) or '1type' as a synonym of type is deprecated; in a future version of numpy, it will be understood as (type, (1,)) / '(1,)type'.\n",
      "  _np_qint8 = np.dtype([(\"qint8\", np.int8, 1)])\n",
      "/usr/local/lib/python3.6/dist-packages/tensorflow/python/framework/dtypes.py:524: FutureWarning: Passing (type, 1) or '1type' as a synonym of type is deprecated; in a future version of numpy, it will be understood as (type, (1,)) / '(1,)type'.\n",
      "  _np_quint8 = np.dtype([(\"quint8\", np.uint8, 1)])\n",
      "/usr/local/lib/python3.6/dist-packages/tensorflow/python/framework/dtypes.py:525: FutureWarning: Passing (type, 1) or '1type' as a synonym of type is deprecated; in a future version of numpy, it will be understood as (type, (1,)) / '(1,)type'.\n",
      "  _np_qint16 = np.dtype([(\"qint16\", np.int16, 1)])\n",
      "/usr/local/lib/python3.6/dist-packages/tensorflow/python/framework/dtypes.py:526: FutureWarning: Passing (type, 1) or '1type' as a synonym of type is deprecated; in a future version of numpy, it will be understood as (type, (1,)) / '(1,)type'.\n",
      "  _np_quint16 = np.dtype([(\"quint16\", np.uint16, 1)])\n",
      "/usr/local/lib/python3.6/dist-packages/tensorflow/python/framework/dtypes.py:527: FutureWarning: Passing (type, 1) or '1type' as a synonym of type is deprecated; in a future version of numpy, it will be understood as (type, (1,)) / '(1,)type'.\n",
      "  _np_qint32 = np.dtype([(\"qint32\", np.int32, 1)])\n",
      "/usr/local/lib/python3.6/dist-packages/tensorflow/python/framework/dtypes.py:532: FutureWarning: Passing (type, 1) or '1type' as a synonym of type is deprecated; in a future version of numpy, it will be understood as (type, (1,)) / '(1,)type'.\n",
      "  np_resource = np.dtype([(\"resource\", np.ubyte, 1)])\n"
     ]
    }
   ],
   "source": [
    "from HoTS.model.hots import *\n",
    "from HoTS.utils.build_features import *"
   ]
  },
  {
   "cell_type": "code",
   "execution_count": 2,
   "metadata": {},
   "outputs": [],
   "source": [
    "# define input feature\n",
    "prot_vec = \"Sequence\"\n",
    "drug_vec = \"Morgan\"\n",
    "drug_len = 2048\n",
    "radius = 2\n",
    "protein_encoder = ProteinEncoder(prot_vec)\n",
    "compound_encoder = CompoundEncoder(drug_vec, radius=radius, n_bits=drug_len)"
   ]
  },
  {
   "cell_type": "code",
   "execution_count": 3,
   "metadata": {},
   "outputs": [],
   "source": [
    "# initialize model\n",
    "dti_model = HoTS()"
   ]
  },
  {
   "cell_type": "markdown",
   "metadata": {},
   "source": [
    "## Load trained model"
   ]
  },
  {
   "cell_type": "markdown",
   "metadata": {},
   "source": [
    "To load trained model, you can use `dti_model.load_model(\"output.config.json\")`"
   ]
  },
  {
   "cell_type": "code",
   "execution_count": 4,
   "metadata": {},
   "outputs": [
    {
     "name": "stdout",
     "output_type": "stream",
     "text": [
      "{'protein_grid_size': 10, 'compound_grid_size': None, 'anchors': [9], 'hots_dimension': 128, 'hots_n_heads': 4, 'dropout': 0.1, 'drug_layers': [512, 128], 'protein_strides': [5, 10, 15, 20, 25, 30], 'filters': 128, 'fc_layers': [256, 64], 'hots_fc_layers': [256, 64], 'learning_rate': 0.0001, 'prot_vec': 'Sequence', 'drug_vec': 'Morgan', 'drug_len': 2048, 'activation': 'gelu', 'protein_layers': [128, 128, 128, 128], 'reg_loss_weight': 0.1, 'conf_loss_weight': 1, 'negative_loss_weight': 0.1, 'retina_loss_weight': 2, 'decay': 0.0001, 'hots_file': '/home/dlsrnsi/DTI/HoTS/Model_JCInfo/0_HoTS_br_9_grid_10.h5', 'dti_file': '/home/dlsrnsi/DTI/HoTS/Model_JCInfo/0_DTI_br_9_grid_10.h5', 'hots_validation_results': {}, 'dti_validation_results': {'MATADOR_DTI': [{'AUC': 0.6692041153579615, 'AUPR': 0.6280061376930326}, {'AUC': 0.6223146223146223, 'AUPR': 0.5732487653197109}, {'AUC': 0.6139719601258062, 'AUPR': 0.5634151615975538}, {'AUC': 0.6018124633509249, 'AUPR': 0.5534286734256454}, {'AUC': 0.7313183005490698, 'AUPR': 0.6856250950814284}, {'AUC': 0.727330881177035, 'AUPR': 0.6864459956677039}, {'AUC': 0.7262967109120955, 'AUPR': 0.6871578137321097}, {'AUC': 0.7281518204595128, 'AUPR': 0.6890286742244958}, {'AUC': 0.7310464310464311, 'AUPR': 0.7027551846585223}, {'AUC': 0.7320166320166319, 'AUPR': 0.6994394841254157}, {'AUC': 0.7355615971000586, 'AUPR': 0.7062916525694227}, {'AUC': 0.7378218455141532, 'AUPR': 0.7089029575536477}, {'AUC': 0.7712884482115252, 'AUPR': 0.7363359383420831}, {'AUC': 0.7696359080974466, 'AUPR': 0.7325661919277728}, {'AUC': 0.7706967322351939, 'AUPR': 0.7339348888557682}, {'AUC': 0.7733887733887735, 'AUPR': 0.7367558366029255}, {'AUC': 0.7840556532864227, 'AUPR': 0.7514670209352308}, {'AUC': 0.7766298843221922, 'AUPR': 0.7454779251338474}, {'AUC': 0.7798656644810491, 'AUPR': 0.7481790520790446}, {'AUC': 0.7809104962951116, 'AUPR': 0.7501042103599915}]}, 'n_stack_hots_prediction': 2, 'protein_encoder_config': {'feature': 'Sequence'}, 'compound_encoder_config': {'radius': 2, 'feature': 'Morgan', 'n_bits': 2048}}\n",
      "{'protein_grid_size': 10, 'compound_grid_size': None, 'anchors': [9], 'hots_dimension': 128, 'hots_n_heads': 4, 'dropout': 0.1, 'drug_layers': [512, 128], 'protein_strides': [5, 10, 15, 20, 25, 30], 'filters': 128, 'fc_layers': [256, 64], 'hots_fc_layers': [256, 64], 'learning_rate': None, 'prot_vec': 'Sequence', 'drug_vec': 'Morgan', 'drug_len': 2048, 'activation': 'gelu', 'protein_layers': [128, 128, 128, 128], 'protein_encoder': <HoTS.utils.build_features.ProteinEncoder object at 0x7fd17e1be748>, 'compound_encoder': <HoTS.utils.build_features.CompoundEncoder object at 0x7fd17e1be630>, 'reg_loss_weight': None, 'conf_loss_weight': None, 'negative_loss_weight': None, 'retina_loss_weight': None, 'decay': None, 'model_hots': <keras.engine.training.Model object at 0x7fd0b1410630>, 'model_t': <keras.engine.training.Model object at 0x7fd0b12f3ef0>, 'hots_file': None, 'dti_file': None, 'hots_validation_results': {}, 'dti_validation_results': {}, 'n_stack_hots_prediction': 2, 'protein_encoder_config': {'feature': 'Sequence'}, 'compound_encoder_config': {'radius': 2, 'feature': 'Morgan', 'n_bits': 2048}}\n",
      "\tHoTS Model loaded at /home/dlsrnsi/DTI/HoTS/Model_JCInfo/0_HoTS_br_9_grid_10.h5\n",
      "\tDTI Model loaded at /home/dlsrnsi/DTI/HoTS/Model_JCInfo/0_DTI_br_9_grid_10.h5\n"
     ]
    }
   ],
   "source": [
    "# load model\n",
    "dti_model.load_model(\"/home/dlsrnsi/DTI/HoTS/Model_JCInfo/0_HoTS_br_9_grid_10.json\")"
   ]
  },
  {
   "cell_type": "code",
   "execution_count": 5,
   "metadata": {},
   "outputs": [],
   "source": [
    "# SMILES of drug (should be listed)\n",
    "\n",
    "drugs = [\"CC1=NC(NC2=NC=C(S2)C(=O)NC2=C(C)C=CC=C2Cl)=CC(=N1)N1CCN(CCO)CC1\"]\n",
    "\n",
    "# Sequences (should be listed)\n",
    "\n",
    "targets = [\"MLEICLKLVGCKSKKGLSSSSSCYLEEALQRPVASDFEPQGLSEAARWNSKENLLAGPSENDPNLFVALYDFVASGDNTLSITKGEKLRVLGYNHNGEWCEAQTKNGQGWVPSNYITPVNSLEKHSWYHGPVSRNAAEYLLSSGINGSFLVRESESSPGQRSISLRYEGRVYHYRINTASDGKLYVSSESRFNTLAELVHHHSTVADGLITTLHYPAPKRNKPTVYGVSPNYDKWEMERTDITMKHKLGGGQYGEVYEGVWKKYSLTVAVKTLKEDTMEVEEFLKEAAVMKEIKHPNLVQLLGVCTREPPFYIITEFMTYGNLLDYLRECNRQEVNAVVLLYMATQISSAMEYLEKKNFIHRDLAARNCLVGENHLVKVADFGLSRLMTGDTYTAHAGAKFPIKWTAPESLAYNKFSIKSDVWAFGVLLWEIATYGMSPYPGIDLSQVYELLEKDYRMERPEGCPEKVYELMRACWQWNPSDRPSFAEIHQAFETMFQESSISDEVEKELGKQGVRGAVSTLLQAPELPTKTRTSRRAAEHRDTTDVPEMPHSKGQGESDPLDHEPAVSPLLPRKERGPPEGGLNEDERLLPKDKKTNLFSALIKKKKKTAPTPPKRSSSFREMDGQPERRGAGEEEGRDISNGALAFTPLDTADPAKSPKPSNGAGVPNGALRESGGSGFRSPHLWKKSSTLTSSRLATGEEEGGGSSSKRFLRSCSASCVPHGAKDTEWRSVTLPRDLQSTGRQFDSSTFGGHKSEKPALPRKRAGENRSDQVTRGTVTPPPRLVKKNEEAADEVFKDIMESSPGSSPPNLTPKPLRRQVTVAPASGLPHKEEAGKGSALGTPAAAEPVTPTSKAGSGAPGGTSKGPAEESRVRRHKHSSESPGRDKGKLSRLKPAPPPPPAASAGKAGGKPSQSPSQEAAGEAVLGAKTKATSLVDAVNSDAAKPSQPGEGLKKPVLPATPKPQSAKPSGTPISPAPVPSTLPSASSALAGDQPSSTAFIPLISTRVSLRKTRQPPERIASGAITKGVVLDSTEALCLAISRNSEQMASHSAVLEAGKNLYTFCVSYVDSIQQMRNKFAFREAINKLENNLRELQICPATAGSGPAATQDFSKLLSSVKEISDIVQR\"]"
   ]
  },
  {
   "cell_type": "markdown",
   "metadata": {},
   "source": [
    "Encoding SMILES and Sequence with defined encoder"
   ]
  },
  {
   "cell_type": "code",
   "execution_count": 6,
   "metadata": {},
   "outputs": [],
   "source": [
    "drugs_fp = [compound_encoder.encode(drug) for drug in drugs]\n",
    "targets_encoded = [protein_encoder.encode(target) for target in targets]"
   ]
  },
  {
   "cell_type": "markdown",
   "metadata": {},
   "source": [
    "## Prediction of DTIs"
   ]
  },
  {
   "cell_type": "markdown",
   "metadata": {},
   "source": [
    "you can simply predict DTIs with `DTI_prediction` function of `dti_model` object"
   ]
  },
  {
   "cell_type": "code",
   "execution_count": 7,
   "metadata": {},
   "outputs": [
    {
     "data": {
      "text/plain": [
       "array([[0.9764183]], dtype=float32)"
      ]
     },
     "execution_count": 7,
     "metadata": {},
     "output_type": "execute_result"
    }
   ],
   "source": [
    "dti_model.DTI_prediction(drugs_fp, targets_encoded)"
   ]
  },
  {
   "cell_type": "markdown",
   "metadata": {},
   "source": [
    "## Prediction of BRs"
   ]
  },
  {
   "cell_type": "markdown",
   "metadata": {},
   "source": [
    "you can predict BRs with `HoTS_prediction` but it's hard to interpret"
   ]
  },
  {
   "cell_type": "code",
   "execution_count": 8,
   "metadata": {
    "scrolled": false
   },
   "outputs": [
    {
     "data": {
      "text/plain": [
       "(array([[0.9764183]], dtype=float32),\n",
       " [[(367, 383, 0.7656854391098022),\n",
       "   (290, 304, 0.7525229454040527),\n",
       "   (308, 325, 0.7470288276672363),\n",
       "   (359, 373, 0.7408533096313477),\n",
       "   (245, 261, 0.7305890917778015),\n",
       "   (297, 312, 0.7042661309242249),\n",
       "   (376, 390, 0.7004820108413696),\n",
       "   (240, 253, 0.6935895681381226),\n",
       "   (314, 331, 0.681891918182373),\n",
       "   (349, 364, 0.6479472517967224),\n",
       "   (157, 172, 0.6307445168495178),\n",
       "   (90, 105, 0.6145213842391968),\n",
       "   (740, 753, 0.5977887511253357),\n",
       "   (280, 294, 0.5959694981575012),\n",
       "   (199, 212, 0.5927091240882874),\n",
       "   (330, 343, 0.5844812989234924),\n",
       "   (1059, 1073, 0.5714472532272339),\n",
       "   (66, 82, 0.5708515048027039),\n",
       "   (1117, 1130, 0.5557569265365601),\n",
       "   (436, 449, 0.5552679896354675),\n",
       "   (829, 841, 0.5524572730064392),\n",
       "   (1069, 1081, 0.5516120195388794),\n",
       "   (220, 233, 0.5440090298652649),\n",
       "   (1097, 1108, 0.5407511591911316),\n",
       "   (389, 402, 0.5382654070854187),\n",
       "   (61, 74, 0.5367584228515625),\n",
       "   (338, 351, 0.5285118222236633),\n",
       "   (691, 703, 0.5274497270584106),\n",
       "   (479, 491, 0.5273964405059814),\n",
       "   (469, 482, 0.5200915336608887),\n",
       "   (259, 272, 0.51955646276474),\n",
       "   (1036, 1048, 0.5174328088760376),\n",
       "   (518, 530, 0.5160000920295715),\n",
       "   (397, 409, 0.51222163438797),\n",
       "   (407, 419, 0.5109151601791382),\n",
       "   (1030, 1042, 0.5069766044616699),\n",
       "   (268, 281, 0.5050105452537537),\n",
       "   (1108, 1120, 0.5033350586891174),\n",
       "   (677, 689, 0.5027132034301758),\n",
       "   (647, 659, 0.5017299652099609),\n",
       "   (790, 804, 0.4998195767402649),\n",
       "   (429, 441, 0.4968412518501282),\n",
       "   (80, 92, 0.4915693402290344),\n",
       "   (169, 182, 0.48794710636138916),\n",
       "   (208, 221, 0.48124706745147705),\n",
       "   (119, 132, 0.4786597490310669),\n",
       "   (229, 242, 0.4726839065551758),\n",
       "   (418, 431, 0.46471717953681946),\n",
       "   (998, 1010, 0.4644200801849365),\n",
       "   (848, 859, 0.4599265158176422),\n",
       "   (870, 881, 0.4536929130554199),\n",
       "   (778, 790, 0.4501083493232727),\n",
       "   (729, 742, 0.4489824175834656),\n",
       "   (110, 122, 0.44832125306129456),\n",
       "   (670, 681, 0.4471432566642761),\n",
       "   (570, 581, 0.4464075565338135),\n",
       "   (719, 732, 0.44472256302833557),\n",
       "   (451, 463, 0.44418567419052124),\n",
       "   (499, 511, 0.44094952940940857),\n",
       "   (1006, 1018, 0.4403161406517029),\n",
       "   (528, 540, 0.4382432997226715),\n",
       "   (709, 721, 0.43404918909072876),\n",
       "   (1077, 1089, 0.43110889196395874),\n",
       "   (126, 138, 0.4286828339099884),\n",
       "   (921, 933, 0.42697879672050476),\n",
       "   (1048, 1061, 0.42211899161338806),\n",
       "   (558, 569, 0.4218325614929199),\n",
       "   (660, 671, 0.41886433959007263),\n",
       "   (459, 472, 0.4172094762325287),\n",
       "   (99, 110, 0.4168684482574463),\n",
       "   (1021, 1032, 0.4157126843929291),\n",
       "   (808, 820, 0.4133553206920624),\n",
       "   (941, 953, 0.41271790862083435),\n",
       "   (148, 161, 0.40840041637420654),\n",
       "   (189, 202, 0.40708109736442566),\n",
       "   (591, 603, 0.40174955129623413),\n",
       "   (511, 522, 0.40111151337623596),\n",
       "   (578, 589, 0.39725348353385925),\n",
       "   (911, 923, 0.3945062756538391),\n",
       "   (799, 811, 0.39349251985549927),\n",
       "   (180, 192, 0.3932512700557709),\n",
       "   (701, 713, 0.3920340836048126),\n",
       "   (489, 502, 0.38893017172813416),\n",
       "   (978, 989, 0.3859730362892151),\n",
       "   (820, 832, 0.38562440872192383),\n",
       "   (990, 1002, 0.3834884464740753),\n",
       "   (618, 630, 0.3676557242870331),\n",
       "   (839, 850, 0.3651524484157562),\n",
       "   (748, 760, 0.3648325800895691),\n",
       "   (970, 981, 0.36478081345558167),\n",
       "   (902, 913, 0.36215248703956604),\n",
       "   (541, 552, 0.3606933057308197),\n",
       "   (16, 28, 0.35617825388908386),\n",
       "   (770, 782, 0.3523167669773102),\n",
       "   (947, 959, 0.35202938318252563),\n",
       "   (959, 970, 0.3451063930988312),\n",
       "   (599, 611, 0.3443678021430969),\n",
       "   (629, 641, 0.34333741664886475),\n",
       "   (609, 620, 0.3403894901275635),\n",
       "   (857, 869, 0.33664265275001526),\n",
       "   (1090, 1101, 0.3348154127597809),\n",
       "   (138, 150, 0.3337477445602417),\n",
       "   (51, 63, 0.3327864408493042),\n",
       "   (639, 651, 0.3287479281425476),\n",
       "   (929, 941, 0.3081304728984833),\n",
       "   (878, 889, 0.2986409664154053),\n",
       "   (550, 561, 0.29339784383773804),\n",
       "   (759, 771, 0.28457018733024597),\n",
       "   (889, 900, 0.2834464907646179),\n",
       "   (38, 50, 0.273531049489975),\n",
       "   (31, 43, 0.2730368673801422),\n",
       "   (10, 22, 0.23700641095638275),\n",
       "   (0, 11, 0.2212229073047638)]])"
      ]
     },
     "execution_count": 8,
     "metadata": {},
     "output_type": "execute_result"
    }
   ],
   "source": [
    "dti_model.HoTS_prediction(drugs_fp, targets_encoded)"
   ]
  },
  {
   "cell_type": "markdown",
   "metadata": {},
   "source": [
    "You can visualize result with `HoTS_visualization`, but you need to give list of names for each visualiztion"
   ]
  },
  {
   "cell_type": "code",
   "execution_count": 13,
   "metadata": {},
   "outputs": [],
   "source": [
    "names = [\"ABL1_imatinib\"]"
   ]
  },
  {
   "cell_type": "code",
   "execution_count": 14,
   "metadata": {},
   "outputs": [
    {
     "name": "stdout",
     "output_type": "stream",
     "text": [
      "Prediction with 0.600000\n",
      "ABL1_imatinib\n",
      "DTI score :  [0.9764183]\n",
      "  Sequence : MLEICLKLVGCKSKKGLSSSSSCYLEEALQRPVASDFEPQGLSEAARWNSKENLLAGPSENDPNLFVALYDFVASGDNTLSITKGEKLRVLGYNHNGEWC\n",
      "Prediction :                                                                                           LGYNHNGEWC\n",
      "     Score :                                                                                           61%       \n",
      "  Sequence : EAQTKNGQGWVPSNYITPVNSLEKHSWYHGPVSRNAAEYLLSSGINGSFLVRESESSPGQRSISLRYEGRVYHYRINTASDGKLYVSSESRFNTLAELVH\n",
      "Prediction : EAQTK                                                    PGQRSISLRYEGRVY                            \n",
      "     Score :                                                          63%                                        \n",
      "  Sequence : HHSTVADGLITTLHYPAPKRNKPTVYGVSPNYDKWEMERTDITMKHKLGGGQYGEVYEGVWKKYSLTVAVKTLKEDTMEVEEFLKEAAVMKEIKHPNLVQ\n",
      "Prediction :                                         DITMKHKLGGGQYGEVYEGVW                             KEIKHPNLVQ\n",
      "     Score :                                         69%  73%                                          75%    70%\n",
      "  Sequence : LLGVCTREPPFYIITEFMTYGNLLDYLRECNRQEVNAVVLLYMATQISSAMEYLEKKNFIHRDLAARNCLVGENHLVKVADFGLSRLMTGDTYTAHAGAK\n",
      "Prediction : LLGVCTREPPFYIITEFMTYGNLLDYLRECN                  AMEYLEKKNFIHRDLAARNCLVGENHLVKVADFGLSRLMTG          \n",
      "     Score :         74%   68%                                64%       74%     76%      70%                     \n",
      "  Sequence : FPIKWTAPESLAYNKFSIKSDVWAFGVLLWEIATYGMSPYPGIDLSQVYELLEKDYRMERPEGCPEKVYELMRACWQWNPSDRPSFAEIHQAFETMFQES\n",
      "Prediction :                                                                                                     \n",
      "     Score :                                                                                                     \n",
      "  Sequence : SISDEVEKELGKQGVRGAVSTLLQAPELPTKTRTSRRAAEHRDTTDVPEMPHSKGQGESDPLDHEPAVSPLLPRKERGPPEGGLNEDERLLPKDKKTNLF\n",
      "Prediction :                                                                                                     \n",
      "     Score :                                                                                                     \n",
      "  Sequence : SALIKKKKKTAPTPPKRSSSFREMDGQPERRGAGEEEGRDISNGALAFTPLDTADPAKSPKPSNGAGVPNGALRESGGSGFRSPHLWKKSSTLTSSRLAT\n",
      "Prediction :                                                                                                     \n",
      "     Score :                                                                                                     \n",
      "  Sequence : GEEEGGGSSSKRFLRSCSASCVPHGAKDTEWRSVTLPRDLQSTGRQFDSSTFGGHKSEKPALPRKRAGENRSDQVTRGTVTPPPRLVKKNEEAADEVFKD\n",
      "Prediction :                                                                                                     \n",
      "     Score :                                                                                                     \n",
      "  Sequence : IMESSPGSSPPNLTPKPLRRQVTVAPASGLPHKEEAGKGSALGTPAAAEPVTPTSKAGSGAPGGTSKGPAEESRVRRHKHSSESPGRDKGKLSRLKPAPP\n",
      "Prediction :                                                                                                     \n",
      "     Score :                                                                                                     \n",
      "  Sequence : PPPAASAGKAGGKPSQSPSQEAAGEAVLGAKTKATSLVDAVNSDAAKPSQPGEGLKKPVLPATPKPQSAKPSGTPISPAPVPSTLPSASSALAGDQPSST\n",
      "Prediction :                                                                                                     \n",
      "     Score :                                                                                                     \n",
      "  Sequence : AFIPLISTRVSLRKTRQPPERIASGAITKGVVLDSTEALCLAISRNSEQMASHSAVLEAGKNLYTFCVSYVDSIQQMRNKFAFREAINKLENNLRELQIC\n",
      "Prediction :                                                                                                     \n",
      "     Score :                                                                                                     \n",
      "  Sequence : PATAGSGPAATQDFSKLLSSVKEISDIVQR\n",
      "Prediction :                               \n",
      "     Score :                               \n"
     ]
    }
   ],
   "source": [
    "dti_model.HoTS_visualization(drugs_fp, targets_encoded, targets, protein_names=names, th=0.6)"
   ]
  },
  {
   "cell_type": "code",
   "execution_count": null,
   "metadata": {},
   "outputs": [],
   "source": []
  }
 ],
 "metadata": {
  "kernelspec": {
   "display_name": "Python 3",
   "language": "python",
   "name": "python3"
  },
  "language_info": {
   "codemirror_mode": {
    "name": "ipython",
    "version": 3
   },
   "file_extension": ".py",
   "mimetype": "text/x-python",
   "name": "python",
   "nbconvert_exporter": "python",
   "pygments_lexer": "ipython3",
   "version": "3.6.8"
  }
 },
 "nbformat": 4,
 "nbformat_minor": 2
}
