{
 "cells": [
  {
   "cell_type": "markdown",
   "metadata": {},
   "source": [
    "# Predict and evaluate DTIs and BR with trained Model"
   ]
  },
  {
   "cell_type": "code",
   "execution_count": 1,
   "metadata": {},
   "outputs": [
    {
     "name": "stderr",
     "output_type": "stream",
     "text": [
      "Using TensorFlow backend.\n",
      "/usr/local/lib/python3.6/dist-packages/tensorflow/python/framework/dtypes.py:523: FutureWarning: Passing (type, 1) or '1type' as a synonym of type is deprecated; in a future version of numpy, it will be understood as (type, (1,)) / '(1,)type'.\n",
      "  _np_qint8 = np.dtype([(\"qint8\", np.int8, 1)])\n",
      "/usr/local/lib/python3.6/dist-packages/tensorflow/python/framework/dtypes.py:524: FutureWarning: Passing (type, 1) or '1type' as a synonym of type is deprecated; in a future version of numpy, it will be understood as (type, (1,)) / '(1,)type'.\n",
      "  _np_quint8 = np.dtype([(\"quint8\", np.uint8, 1)])\n",
      "/usr/local/lib/python3.6/dist-packages/tensorflow/python/framework/dtypes.py:525: FutureWarning: Passing (type, 1) or '1type' as a synonym of type is deprecated; in a future version of numpy, it will be understood as (type, (1,)) / '(1,)type'.\n",
      "  _np_qint16 = np.dtype([(\"qint16\", np.int16, 1)])\n",
      "/usr/local/lib/python3.6/dist-packages/tensorflow/python/framework/dtypes.py:526: FutureWarning: Passing (type, 1) or '1type' as a synonym of type is deprecated; in a future version of numpy, it will be understood as (type, (1,)) / '(1,)type'.\n",
      "  _np_quint16 = np.dtype([(\"quint16\", np.uint16, 1)])\n",
      "/usr/local/lib/python3.6/dist-packages/tensorflow/python/framework/dtypes.py:527: FutureWarning: Passing (type, 1) or '1type' as a synonym of type is deprecated; in a future version of numpy, it will be understood as (type, (1,)) / '(1,)type'.\n",
      "  _np_qint32 = np.dtype([(\"qint32\", np.int32, 1)])\n",
      "/usr/local/lib/python3.6/dist-packages/tensorflow/python/framework/dtypes.py:532: FutureWarning: Passing (type, 1) or '1type' as a synonym of type is deprecated; in a future version of numpy, it will be understood as (type, (1,)) / '(1,)type'.\n",
      "  np_resource = np.dtype([(\"resource\", np.ubyte, 1)])\n"
     ]
    }
   ],
   "source": [
    "from HoTS.model.hots import *\n",
    "from HoTS.utils.build_features import *"
   ]
  },
  {
   "cell_type": "code",
   "execution_count": 2,
   "metadata": {},
   "outputs": [],
   "source": [
    "# define input feature\n",
    "prot_vec = \"Sequence\"\n",
    "drug_vec = \"Morgan\"\n",
    "drug_len = 2048\n",
    "radius = 2\n",
    "protein_encoder = ProteinEncoder(prot_vec)\n",
    "compound_encoder = CompoundEncoder(drug_vec, radius=radius, n_bits=drug_len)"
   ]
  },
  {
   "cell_type": "code",
   "execution_count": 3,
   "metadata": {},
   "outputs": [],
   "source": [
    "# initialize model\n",
    "dti_model = HoTS()"
   ]
  },
  {
   "cell_type": "markdown",
   "metadata": {},
   "source": [
    "## Load trained model"
   ]
  },
  {
   "cell_type": "markdown",
   "metadata": {},
   "source": [
    "To load trained model, you can use `dti_model.load_model(\"output.config.json\")`"
   ]
  },
  {
   "cell_type": "code",
   "execution_count": 4,
   "metadata": {
    "scrolled": false
   },
   "outputs": [
    {
     "name": "stdout",
     "output_type": "stream",
     "text": [
      "{'protein_grid_size': 10, 'compound_grid_size': None, 'anchors': [9], 'hots_dimension': 128, 'hots_n_heads': 4, 'dropout': 0.1, 'drug_layers': [512, 128], 'protein_strides': [5, 10, 15, 20, 25, 30], 'filters': 128, 'fc_layers': [256, 64], 'hots_fc_layers': [256, 64], 'learning_rate': 0.0001, 'prot_vec': 'Sequence', 'drug_vec': 'Morgan', 'drug_len': 2048, 'activation': 'gelu', 'protein_layers': [128, 128, 128, 128], 'reg_loss_weight': 0.1, 'conf_loss_weight': 1, 'negative_loss_weight': 0.1, 'retina_loss_weight': 2, 'decay': 0.0001, 'hots_file': './Model/HoTS.h5', 'dti_file': './Model/DTI.h5', 'hots_validation_results': {}, 'dti_validation_results': {'MATADOR_DTI': [{'AUC': 0.6055226824457594, 'AUPR': 0.5292486343535088}, {'AUC': 0.5882616344154805, 'AUPR': 0.5303096078019971}, {'AUC': 0.583511914281145, 'AUPR': 0.519665186632455}, {'AUC': 0.5810011194626579, 'AUPR': 0.5175772095988646}, {'AUC': 0.7315688469534624, 'AUPR': 0.684015600969329}, {'AUC': 0.7398688629457861, 'AUPR': 0.6686561131602171}, {'AUC': 0.7447305293459139, 'AUPR': 0.6773587613685894}, {'AUC': 0.7423849885388347, 'AUPR': 0.6697571213381371}, {'AUC': 0.7814542353003892, 'AUPR': 0.7445623992691217}, {'AUC': 0.802734687350072, 'AUPR': 0.7641506921391727}, {'AUC': 0.8044085505623967, 'AUPR': 0.7653623752517744}, {'AUC': 0.803331734100965, 'AUPR': 0.7642136090131033}, {'AUC': 0.8091049629511168, 'AUPR': 0.7674974255072599}, {'AUC': 0.8089503704888319, 'AUPR': 0.7687374089194681}, {'AUC': 0.8079481848712619, 'AUPR': 0.7675004600543336}, {'AUC': 0.8055440055440056, 'AUPR': 0.7639363702748642}, {'AUC': 0.8257689642305026, 'AUPR': 0.7907352310823916}, {'AUC': 0.8269257423103576, 'AUPR': 0.7911795001652043}, {'AUC': 0.8260195106348953, 'AUPR': 0.7893611899548728}, {'AUC': 0.8237006237006237, 'AUPR': 0.7858476419789799}]}, 'n_stack_hots_prediction': 2, 'protein_encoder_config': {'feature': 'Sequence'}, 'compound_encoder_config': {'radius': 2, 'feature': 'Morgan', 'n_bits': 2048}}\n",
      "{'protein_grid_size': 10, 'compound_grid_size': None, 'anchors': [9], 'hots_dimension': 128, 'hots_n_heads': 4, 'dropout': 0.1, 'drug_layers': [512, 128], 'protein_strides': [5, 10, 15, 20, 25, 30], 'filters': 128, 'fc_layers': [256, 64], 'hots_fc_layers': [256, 64], 'learning_rate': None, 'prot_vec': 'Sequence', 'drug_vec': 'Morgan', 'drug_len': 2048, 'activation': 'gelu', 'protein_layers': [128, 128, 128, 128], 'protein_encoder': <HoTS.utils.build_features.ProteinEncoder object at 0x7f346714f198>, 'compound_encoder': <HoTS.utils.build_features.CompoundEncoder object at 0x7f346714f160>, 'reg_loss_weight': None, 'conf_loss_weight': None, 'negative_loss_weight': None, 'retina_loss_weight': None, 'decay': None, 'model_hots': <keras.engine.training.Model object at 0x7f33a3235e48>, 'model_t': <keras.engine.training.Model object at 0x7f33a3218be0>, 'hots_file': None, 'dti_file': None, 'hots_validation_results': {}, 'dti_validation_results': {}, 'n_stack_hots_prediction': 2, 'protein_encoder_config': {'feature': 'Sequence'}, 'compound_encoder_config': {'radius': 2, 'feature': 'Morgan', 'n_bits': 2048}}\n",
      "\tHoTS Model loaded at ./Model/HoTS.h5\n",
      "\tDTI Model loaded at ./Model/DTI.h5\n"
     ]
    }
   ],
   "source": [
    "# load model\n",
    "dti_model.load_model(\"./Model/HoTS_config.json\")"
   ]
  },
  {
   "cell_type": "markdown",
   "metadata": {},
   "source": [
    "## Load BR dataset and evaluate Performance"
   ]
  },
  {
   "cell_type": "markdown",
   "metadata": {},
   "source": [
    "you can use `parse_HoTS_data` function to load HoTS data as input of HoTS model.\n",
    "\n",
    "`parse_HoTS_data` is located in `HoTS.utils.build_features`\n",
    "\n",
    "if it contains `binding_region` columns you parsed, then set `binding_region=True`"
   ]
  },
  {
   "cell_type": "code",
   "execution_count": 5,
   "metadata": {},
   "outputs": [
    {
     "name": "stderr",
     "output_type": "stream",
     "text": [
      "100%|██████████| 232/232 [00:00<00:00, 27539.44it/s]"
     ]
    },
    {
     "name": "stdout",
     "output_type": "stream",
     "text": [
      "Parsing HoTS data: ./SampleData/HoTS/Validation_HoTS.tsv\n",
      "Number of 3D-complexes : 232\n",
      "Number of proteins : 207\n"
     ]
    },
    {
     "name": "stderr",
     "output_type": "stream",
     "text": [
      "\n"
     ]
    }
   ],
   "source": [
    "hots_data = parse_HoTS_data(\"./SampleData/HoTS/Validation_HoTS.tsv\",\n",
    "                           compound_encoder=compound_encoder, protein_encoder=protein_encoder, \n",
    "                          binding_region=True)"
   ]
  },
  {
   "cell_type": "markdown",
   "metadata": {},
   "source": [
    "then AP will be caulculated"
   ]
  },
  {
   "cell_type": "code",
   "execution_count": 6,
   "metadata": {},
   "outputs": [
    {
     "name": "stdout",
     "output_type": "stream",
     "text": [
      "\tAP :  0.7196415938563052\n",
      "=================================================\n"
     ]
    }
   ],
   "source": [
    "hots_evalution_result = dti_model.HoTS_validation(**hots_data)"
   ]
  },
  {
   "cell_type": "markdown",
   "metadata": {},
   "source": [
    "evaluation results are summarized as dictionary object"
   ]
  },
  {
   "cell_type": "code",
   "execution_count": 7,
   "metadata": {},
   "outputs": [
    {
     "data": {
      "text/plain": [
       "{'AP': 0.7196415938563052}"
      ]
     },
     "execution_count": 7,
     "metadata": {},
     "output_type": "execute_result"
    }
   ],
   "source": [
    "hots_evalution_result"
   ]
  },
  {
   "cell_type": "markdown",
   "metadata": {},
   "source": [
    "## Load DTI dataset and evaluate Performance"
   ]
  },
  {
   "cell_type": "markdown",
   "metadata": {},
   "source": [
    "you can use `parse_DTI_data` function to load HoTS data as input of HoTS model.\n",
    "\n",
    "`parse_DTI_data` is located in `HoTS.utils.build_features`"
   ]
  },
  {
   "cell_type": "code",
   "execution_count": 8,
   "metadata": {},
   "outputs": [
    {
     "name": "stdout",
     "output_type": "stream",
     "text": [
      "Parsing ./SampleData/DTI/Validation/Validation_DTI.csv , ./SampleData/DTI/Validation/Validation_Compound.csv, ./SampleData/DTI/Validation/Validation_Protein.csv with length 2500, type None\n"
     ]
    },
    {
     "name": "stderr",
     "output_type": "stream",
     "text": [
      "  4%|▍         | 22/499 [00:00<00:02, 219.79it/s]"
     ]
    },
    {
     "name": "stdout",
     "output_type": "stream",
     "text": [
      "Encoding compound with Morgan type\n"
     ]
    },
    {
     "name": "stderr",
     "output_type": "stream",
     "text": [
      "100%|██████████| 499/499 [00:02<00:00, 217.39it/s]"
     ]
    },
    {
     "name": "stdout",
     "output_type": "stream",
     "text": [
      "Encoding compound ends!\n",
      "\tPositive data : 370\n",
      "\tNegative data : 507\n"
     ]
    },
    {
     "name": "stderr",
     "output_type": "stream",
     "text": [
      "\n"
     ]
    }
   ],
   "source": [
    "dti_data = parse_DTI_data(\"./SampleData/DTI/Validation/Validation_DTI.csv\", \n",
    "                   \"./SampleData/DTI/Validation/Validation_Compound.csv\", \n",
    "                   \"./SampleData/DTI/Validation/Validation_Protein.csv\", \n",
    "                   compound_encoder=compound_encoder, protein_encoder=protein_encoder)"
   ]
  },
  {
   "cell_type": "markdown",
   "metadata": {},
   "source": [
    "Basically, AUC and AUPR are calculated.\n",
    "\n",
    "You can put `threshold` argument, then sensitivity, specificity, precision, accuracy, F1 scores are also calculated."
   ]
  },
  {
   "cell_type": "code",
   "execution_count": 9,
   "metadata": {},
   "outputs": [
    {
     "name": "stdout",
     "output_type": "stream",
     "text": [
      "\tSen :  0.5648648648648649\n",
      "\tSpe :  0.8777120315581854\n",
      "\tPrecision :  0.7712177121771218\n",
      "\tAcc :  0.7457240592930444\n",
      "\tF1 :  0.6521060842433697\n",
      "\tArea Under ROC Curve(AUC): 0.826\n",
      "\tArea Under PR Curve(AUPR): 0.790\n",
      "\tOptimal threshold(AUC)   : 0.000 \n",
      "\tOptimal threshold(AUPR)  : 0.359\n",
      "=================================================\n"
     ]
    },
    {
     "name": "stderr",
     "output_type": "stream",
     "text": [
      "/home/dlsrnsi/DTI/HoTS_github/HoTS/HoTS/model/hots.py:205: RuntimeWarning: divide by zero encountered in true_divide\n",
      "  EERs = (1-recall)/(1-precision)\n"
     ]
    }
   ],
   "source": [
    "dti_evalution_result = dti_model.DTI_validation(threshold=0.4, **dti_data)"
   ]
  },
  {
   "cell_type": "markdown",
   "metadata": {},
   "source": [
    "evaluation results are summarized as dictionary object"
   ]
  },
  {
   "cell_type": "code",
   "execution_count": 10,
   "metadata": {},
   "outputs": [
    {
     "data": {
      "text/plain": [
       "{'Sen': 0.5648648648648649,\n",
       " 'Spe': 0.8777120315581854,\n",
       " 'Acc': 0.7457240592930444,\n",
       " 'Pre': 0.7712177121771218,\n",
       " 'F1': 0.6521060842433697,\n",
       " 'AUC': 0.8260408337331414,\n",
       " 'AUPR': 0.7895424822083337}"
      ]
     },
     "execution_count": 10,
     "metadata": {},
     "output_type": "execute_result"
    }
   ],
   "source": [
    "dti_evalution_result"
   ]
  },
  {
   "cell_type": "markdown",
   "metadata": {},
   "source": [
    "## Predict BRs and DTIs without loading data"
   ]
  },
  {
   "cell_type": "code",
   "execution_count": 11,
   "metadata": {},
   "outputs": [],
   "source": [
    "import urllib\n",
    "uniprot_url = \"https://www.uniprot.org/uniprot/{0}.fasta\"\n",
    "from Bio import Entrez\n",
    "\n",
    "def get_smiles_from_cid(cid):\n",
    "    return urllib.request.urlopen(\"https://pubchem.ncbi.nlm.nih.gov/rest/pug/compound/cid/%d/property/CanonicalSMILES/txt\"%cid).read().decode(\"utf-8\").strip()\n",
    " \n",
    "def get_seq_from_uniprot_acc(uniprot_acc):\n",
    "    opened = urllib.request.urlopen(uniprot_url.format(uniprot_acc))\n",
    "    lines = opened.readlines()\n",
    "    return \"\".join([line.decode(\"utf-8\").rstrip() for line in lines[1:]])"
   ]
  },
  {
   "cell_type": "code",
   "execution_count": 12,
   "metadata": {},
   "outputs": [],
   "source": [
    "# SMILES of drug (should be listed)\n",
    "\n",
    "drugs = [get_smiles_from_cid(219024)]\n",
    "\n",
    "# Sequences (should be listed)\n",
    "\n",
    "targets = [get_seq_from_uniprot_acc(\"P29274\")]"
   ]
  },
  {
   "cell_type": "markdown",
   "metadata": {},
   "source": [
    "Encoding SMILES and Sequence with defined encoder"
   ]
  },
  {
   "cell_type": "code",
   "execution_count": 13,
   "metadata": {},
   "outputs": [],
   "source": [
    "drugs_fp = [compound_encoder.encode(drug) for drug in drugs]\n",
    "targets_encoded = [protein_encoder.encode(target) for target in targets]"
   ]
  },
  {
   "cell_type": "markdown",
   "metadata": {},
   "source": [
    "### Prediction of DTIs"
   ]
  },
  {
   "cell_type": "markdown",
   "metadata": {},
   "source": [
    "you can simply predict DTIs with `DTI_prediction` function of `dti_model` object"
   ]
  },
  {
   "cell_type": "code",
   "execution_count": 14,
   "metadata": {},
   "outputs": [
    {
     "data": {
      "text/plain": [
       "array([[0.78115684]], dtype=float32)"
      ]
     },
     "execution_count": 14,
     "metadata": {},
     "output_type": "execute_result"
    }
   ],
   "source": [
    "dti_model.DTI_prediction(drugs_fp, targets_encoded)"
   ]
  },
  {
   "cell_type": "markdown",
   "metadata": {},
   "source": [
    "### Prediction of BRs"
   ]
  },
  {
   "cell_type": "markdown",
   "metadata": {},
   "source": [
    "you can predict BRs with `HoTS_prediction` but it's hard to interpret"
   ]
  },
  {
   "cell_type": "code",
   "execution_count": 15,
   "metadata": {
    "scrolled": false
   },
   "outputs": [
    {
     "data": {
      "text/plain": [
       "(array([[0.78115684]], dtype=float32),\n",
       " [[(178, 193, 0.7201496958732605),\n",
       "   (256, 270, 0.7143986225128174),\n",
       "   (167, 182, 0.6817784905433655),\n",
       "   (116, 130, 0.6758933067321777),\n",
       "   (60, 74, 0.6708559989929199),\n",
       "   (276, 290, 0.649710476398468),\n",
       "   (66, 80, 0.6246914267539978),\n",
       "   (79, 93, 0.6140745878219604),\n",
       "   (230, 243, 0.6140472292900085),\n",
       "   (360, 373, 0.6114603877067566),\n",
       "   (236, 249, 0.6080814003944397),\n",
       "   (328, 341, 0.6058177351951599),\n",
       "   (320, 332, 0.593420684337616),\n",
       "   (86, 99, 0.5894615054130554),\n",
       "   (288, 302, 0.5893487334251404),\n",
       "   (137, 150, 0.5890995264053345),\n",
       "   (248, 261, 0.5860364437103271),\n",
       "   (109, 121, 0.5758647918701172),\n",
       "   (268, 281, 0.5649896264076233),\n",
       "   (349, 360, 0.5600472092628479),\n",
       "   (27, 41, 0.5552756190299988),\n",
       "   (8, 21, 0.551354169845581),\n",
       "   (98, 112, 0.5365844964981079),\n",
       "   (378, 390, 0.5329036116600037),\n",
       "   (338, 351, 0.5312085151672363),\n",
       "   (38, 52, 0.5262905359268188),\n",
       "   (130, 143, 0.5258466601371765),\n",
       "   (188, 201, 0.5243402123451233),\n",
       "   (217, 229, 0.5228261947631836),\n",
       "   (159, 172, 0.5219175219535828),\n",
       "   (18, 31, 0.5110436677932739),\n",
       "   (369, 381, 0.48417797684669495),\n",
       "   (150, 162, 0.480949729681015),\n",
       "   (1, 14, 0.4739171266555786),\n",
       "   (198, 211, 0.4728841781616211),\n",
       "   (386, 398, 0.4702320098876953),\n",
       "   (306, 319, 0.46726298332214355),\n",
       "   (49, 63, 0.45451968908309937),\n",
       "   (211, 223, 0.42351579666137695),\n",
       "   (398, 410, 0.42201974987983704),\n",
       "   (407, 418, 0.41747263073921204),\n",
       "   (298, 311, 0.4100545048713684)]])"
      ]
     },
     "execution_count": 15,
     "metadata": {},
     "output_type": "execute_result"
    }
   ],
   "source": [
    "dti_model.HoTS_prediction(drugs_fp, targets_encoded)"
   ]
  },
  {
   "cell_type": "markdown",
   "metadata": {},
   "source": [
    "### Visualization of BR predictions"
   ]
  },
  {
   "cell_type": "markdown",
   "metadata": {},
   "source": [
    "You can visualize result with `HoTS_visualization`, but you need to give list of names for each visualiztion"
   ]
  },
  {
   "cell_type": "code",
   "execution_count": 16,
   "metadata": {},
   "outputs": [],
   "source": [
    "names = [\"AA2AR_Regadenoson\"]"
   ]
  },
  {
   "cell_type": "code",
   "execution_count": 17,
   "metadata": {},
   "outputs": [
    {
     "name": "stdout",
     "output_type": "stream",
     "text": [
      "Prediction with 0.600000\n",
      "AA2AR_Regadenoson\n",
      "DTI score :  [0.78115684]\n",
      "  Sequence : MPIMGSSVYITVELAIAVLAILGNVLVCWAVWLNSNLQNVTNYFVVSLAAADIAVGVLAIPFAITISTGFCAACHGCLFIACFVLVLTQSSIFSLLAIAI\n",
      "Prediction :                                                             PFAITISTGFCAACHGCLFIACFVLVLTQSSIF       \n",
      "     Score :                                                             67%   62%          61%                  \n",
      "  Sequence : DRYIAIRIPLRYNGLVTGTRAKGIIAICWVLSFAIGLTPMLGWNNCGQPKEGKNHSQGCGEGQVACLFEDVVPMNYMVYFNFFACVLVPLLLMLGVYLRI\n",
      "Prediction :                 TGTRAKGIIAICWV                                     FEDVVPMNYMVYFNFFACVLVPLLLM       \n",
      "     Score :                 67%                                                68%        72%                   \n",
      "  Sequence : FLAARRQLKQMESQPLPGERARSTLQKEVHAAKSLAIIVGLFALCWLPLHIINCFTFFCPDCSHAPLWLMYLAIVLSHTNSVVNPFIYAYRIREFRQTFR\n",
      "Prediction :                               AAKSLAIIVGLFALCWLPL       FFCPDCSHAPLWLM      SHTNSVVNPFIYAY          \n",
      "     Score :                               61%   60%                 71%                 64%                     \n",
      "  Sequence : KIIRSHVLRQQEPFKAAGTSARVLAAHGSDGEQVSLRLNGHPPGVWANGSAPHPERRPNGYALGLVSGGSAQESQGNTGLPDVELLSHELKGVCPEPPGL\n",
      "Prediction :                             SDGEQVSLRLNGH                   YALGLVSGGSAQE                           \n",
      "     Score :                             60%                             61%                                     \n",
      "  Sequence : DDPLAQDGAGVS\n",
      "Prediction :             \n",
      "     Score :             \n"
     ]
    }
   ],
   "source": [
    "dti_model.HoTS_visualization(drugs_fp, targets_encoded, targets, protein_names=names, th=0.6)"
   ]
  }
 ],
 "metadata": {
  "kernelspec": {
   "display_name": "Python 3",
   "language": "python",
   "name": "python3"
  },
  "language_info": {
   "codemirror_mode": {
    "name": "ipython",
    "version": 3
   },
   "file_extension": ".py",
   "mimetype": "text/x-python",
   "name": "python",
   "nbconvert_exporter": "python",
   "pygments_lexer": "ipython3",
   "version": "3.6.8"
  }
 },
 "nbformat": 4,
 "nbformat_minor": 2
}
