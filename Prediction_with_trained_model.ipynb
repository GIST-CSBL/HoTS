{
 "cells": [
  {
   "cell_type": "markdown",
   "metadata": {},
   "source": [
    "# Predict and evaluate DTIs and BR with trained Model"
   ]
  },
  {
   "cell_type": "code",
   "execution_count": 1,
   "metadata": {},
   "outputs": [
    {
     "name": "stderr",
     "output_type": "stream",
     "text": [
      "Using TensorFlow backend.\n",
      "/usr/local/lib/python3.6/dist-packages/tensorflow/python/framework/dtypes.py:523: FutureWarning: Passing (type, 1) or '1type' as a synonym of type is deprecated; in a future version of numpy, it will be understood as (type, (1,)) / '(1,)type'.\n",
      "  _np_qint8 = np.dtype([(\"qint8\", np.int8, 1)])\n",
      "/usr/local/lib/python3.6/dist-packages/tensorflow/python/framework/dtypes.py:524: FutureWarning: Passing (type, 1) or '1type' as a synonym of type is deprecated; in a future version of numpy, it will be understood as (type, (1,)) / '(1,)type'.\n",
      "  _np_quint8 = np.dtype([(\"quint8\", np.uint8, 1)])\n",
      "/usr/local/lib/python3.6/dist-packages/tensorflow/python/framework/dtypes.py:525: FutureWarning: Passing (type, 1) or '1type' as a synonym of type is deprecated; in a future version of numpy, it will be understood as (type, (1,)) / '(1,)type'.\n",
      "  _np_qint16 = np.dtype([(\"qint16\", np.int16, 1)])\n",
      "/usr/local/lib/python3.6/dist-packages/tensorflow/python/framework/dtypes.py:526: FutureWarning: Passing (type, 1) or '1type' as a synonym of type is deprecated; in a future version of numpy, it will be understood as (type, (1,)) / '(1,)type'.\n",
      "  _np_quint16 = np.dtype([(\"quint16\", np.uint16, 1)])\n",
      "/usr/local/lib/python3.6/dist-packages/tensorflow/python/framework/dtypes.py:527: FutureWarning: Passing (type, 1) or '1type' as a synonym of type is deprecated; in a future version of numpy, it will be understood as (type, (1,)) / '(1,)type'.\n",
      "  _np_qint32 = np.dtype([(\"qint32\", np.int32, 1)])\n",
      "/usr/local/lib/python3.6/dist-packages/tensorflow/python/framework/dtypes.py:532: FutureWarning: Passing (type, 1) or '1type' as a synonym of type is deprecated; in a future version of numpy, it will be understood as (type, (1,)) / '(1,)type'.\n",
      "  np_resource = np.dtype([(\"resource\", np.ubyte, 1)])\n"
     ]
    }
   ],
   "source": [
    "from HoTS.model.hots import *\n",
    "from HoTS.utils.build_features import *"
   ]
  },
  {
   "cell_type": "code",
   "execution_count": 2,
   "metadata": {},
   "outputs": [],
   "source": [
    "# define input feature\n",
    "prot_vec = \"Sequence\"\n",
    "drug_vec = \"Morgan\"\n",
    "drug_len = 2048\n",
    "radius = 2\n",
    "protein_encoder = ProteinEncoder(prot_vec)\n",
    "compound_encoder = CompoundEncoder(drug_vec, radius=radius, n_bits=drug_len)"
   ]
  },
  {
   "cell_type": "code",
   "execution_count": 3,
   "metadata": {},
   "outputs": [],
   "source": [
    "# initialize model\n",
    "dti_model = HoTS()"
   ]
  },
  {
   "cell_type": "markdown",
   "metadata": {},
   "source": [
    "## Load trained model"
   ]
  },
  {
   "cell_type": "markdown",
   "metadata": {},
   "source": [
    "To load trained model, you can use `dti_model.load_model(\"output.config.json\")`"
   ]
  },
  {
   "cell_type": "code",
   "execution_count": 4,
   "metadata": {
    "scrolled": false
   },
   "outputs": [
    {
     "name": "stdout",
     "output_type": "stream",
     "text": [
      "{'protein_grid_size': 10, 'compound_grid_size': None, 'anchors': [9], 'hots_dimension': 128, 'hots_n_heads': 4, 'dropout': 0.1, 'drug_layers': [512, 128], 'protein_strides': [5, 10, 15, 20, 25, 30], 'filters': 128, 'fc_layers': [256, 64], 'hots_fc_layers': [256, 64], 'learning_rate': 0.0001, 'prot_vec': 'Sequence', 'drug_vec': 'Morgan', 'drug_len': 2048, 'activation': 'gelu', 'protein_layers': [128, 128, 128, 128], 'reg_loss_weight': 0.1, 'conf_loss_weight': 1, 'negative_loss_weight': 0.1, 'retina_loss_weight': 2, 'decay': 0.0001, 'hots_file': './Model/HoTS.h5', 'dti_file': './Model/DTI.h5', 'hots_validation_results': {}, 'dti_validation_results': {'MATADOR_DTI': [{'AUC': 0.6055226824457594, 'AUPR': 0.5292486343535088}, {'AUC': 0.5882616344154805, 'AUPR': 0.5303096078019971}, {'AUC': 0.583511914281145, 'AUPR': 0.519665186632455}, {'AUC': 0.5810011194626579, 'AUPR': 0.5175772095988646}, {'AUC': 0.7315688469534624, 'AUPR': 0.684015600969329}, {'AUC': 0.7398688629457861, 'AUPR': 0.6686561131602171}, {'AUC': 0.7447305293459139, 'AUPR': 0.6773587613685894}, {'AUC': 0.7423849885388347, 'AUPR': 0.6697571213381371}, {'AUC': 0.7814542353003892, 'AUPR': 0.7445623992691217}, {'AUC': 0.802734687350072, 'AUPR': 0.7641506921391727}, {'AUC': 0.8044085505623967, 'AUPR': 0.7653623752517744}, {'AUC': 0.803331734100965, 'AUPR': 0.7642136090131033}, {'AUC': 0.8091049629511168, 'AUPR': 0.7674974255072599}, {'AUC': 0.8089503704888319, 'AUPR': 0.7687374089194681}, {'AUC': 0.8079481848712619, 'AUPR': 0.7675004600543336}, {'AUC': 0.8055440055440056, 'AUPR': 0.7639363702748642}, {'AUC': 0.8257689642305026, 'AUPR': 0.7907352310823916}, {'AUC': 0.8269257423103576, 'AUPR': 0.7911795001652043}, {'AUC': 0.8260195106348953, 'AUPR': 0.7893611899548728}, {'AUC': 0.8237006237006237, 'AUPR': 0.7858476419789799}]}, 'n_stack_hots_prediction': 2, 'protein_encoder_config': {'feature': 'Sequence'}, 'compound_encoder_config': {'radius': 2, 'feature': 'Morgan', 'n_bits': 2048}}\n",
      "{'protein_grid_size': 10, 'compound_grid_size': None, 'anchors': [9], 'hots_dimension': 128, 'hots_n_heads': 4, 'dropout': 0.1, 'drug_layers': [512, 128], 'protein_strides': [5, 10, 15, 20, 25, 30], 'filters': 128, 'fc_layers': [256, 64], 'hots_fc_layers': [256, 64], 'learning_rate': None, 'prot_vec': 'Sequence', 'drug_vec': 'Morgan', 'drug_len': 2048, 'activation': 'gelu', 'protein_layers': [128, 128, 128, 128], 'protein_encoder': <HoTS.utils.build_features.ProteinEncoder object at 0x7f76ca482198>, 'compound_encoder': <HoTS.utils.build_features.CompoundEncoder object at 0x7f76ca482160>, 'reg_loss_weight': None, 'conf_loss_weight': None, 'negative_loss_weight': None, 'retina_loss_weight': None, 'decay': None, 'model_hots': <keras.engine.training.Model object at 0x7f75f596ff60>, 'model_t': <keras.engine.training.Model object at 0x7f75f58cfcf8>, 'hots_file': None, 'dti_file': None, 'hots_validation_results': {}, 'dti_validation_results': {}, 'n_stack_hots_prediction': 2, 'protein_encoder_config': {'feature': 'Sequence'}, 'compound_encoder_config': {'radius': 2, 'feature': 'Morgan', 'n_bits': 2048}}\n",
      "\tHoTS Model loaded at ./Model/HoTS.h5\n",
      "\tDTI Model loaded at ./Model/DTI.h5\n"
     ]
    }
   ],
   "source": [
    "# load model\n",
    "dti_model.load_model(\"./Model/HoTS_config.json\")"
   ]
  },
  {
   "cell_type": "markdown",
   "metadata": {},
   "source": [
    "## Load BR dataset and evaluate Performance"
   ]
  },
  {
   "cell_type": "markdown",
   "metadata": {},
   "source": [
    "you can use `parse_HoTS_data` function to load HoTS data as input of HoTS model.\n",
    "\n",
    "`parse_HoTS_data` is located in `HoTS.utils.build_features`\n",
    "\n",
    "if it contains `binding_region` columns you parsed, then set `binding_region=True`"
   ]
  },
  {
   "cell_type": "code",
   "execution_count": 5,
   "metadata": {},
   "outputs": [
    {
     "name": "stderr",
     "output_type": "stream",
     "text": [
      "100%|██████████| 232/232 [00:00<00:00, 29284.90it/s]"
     ]
    },
    {
     "name": "stdout",
     "output_type": "stream",
     "text": [
      "Parsing HoTS data: ./SampleData/HoTS/Validation_HoTS.tsv\n",
      "Number of 3D-complexes : 232\n",
      "Number of proteins : 207\n"
     ]
    },
    {
     "name": "stderr",
     "output_type": "stream",
     "text": [
      "\n"
     ]
    }
   ],
   "source": [
    "hots_data = parse_HoTS_data(\"./SampleData/HoTS/Validation_HoTS.tsv\",\n",
    "                           compound_encoder=compound_encoder, protein_encoder=protein_encoder, \n",
    "                          binding_region=True)"
   ]
  },
  {
   "cell_type": "markdown",
   "metadata": {},
   "source": [
    "then AP will be caulculated"
   ]
  },
  {
   "cell_type": "code",
   "execution_count": 6,
   "metadata": {},
   "outputs": [
    {
     "name": "stdout",
     "output_type": "stream",
     "text": [
      "\tAP :  0.7196415938563052\n",
      "=================================================\n"
     ]
    }
   ],
   "source": [
    "hots_evalution_result = dti_model.HoTS_validation(**hots_data)"
   ]
  },
  {
   "cell_type": "markdown",
   "metadata": {},
   "source": [
    "evaluation results are summarized as dictionary object"
   ]
  },
  {
   "cell_type": "code",
   "execution_count": 7,
   "metadata": {},
   "outputs": [
    {
     "data": {
      "text/plain": [
       "{'AP': 0.7196415938563052}"
      ]
     },
     "execution_count": 7,
     "metadata": {},
     "output_type": "execute_result"
    }
   ],
   "source": [
    "hots_evalution_result"
   ]
  },
  {
   "cell_type": "markdown",
   "metadata": {},
   "source": [
    "## Load DTI dataset and evaluate Performance"
   ]
  },
  {
   "cell_type": "markdown",
   "metadata": {},
   "source": [
    "you can use `parse_DTI_data` function to load HoTS data as input of HoTS model.\n",
    "\n",
    "`parse_DTI_data` is located in `HoTS.utils.build_features`"
   ]
  },
  {
   "cell_type": "code",
   "execution_count": 8,
   "metadata": {},
   "outputs": [
    {
     "name": "stdout",
     "output_type": "stream",
     "text": [
      "Parsing ./SampleData/DTI/Validation/Validation_DTI.csv , ./SampleData/DTI/Validation/Validation_Compound.csv, ./SampleData/DTI/Validation/Validation_Protein.csv with length 2500, type None\n"
     ]
    },
    {
     "name": "stderr",
     "output_type": "stream",
     "text": [
      "  4%|▍         | 21/499 [00:00<00:02, 201.63it/s]"
     ]
    },
    {
     "name": "stdout",
     "output_type": "stream",
     "text": [
      "Encoding compound with Morgan type\n"
     ]
    },
    {
     "name": "stderr",
     "output_type": "stream",
     "text": [
      "100%|██████████| 499/499 [00:02<00:00, 200.52it/s]"
     ]
    },
    {
     "name": "stdout",
     "output_type": "stream",
     "text": [
      "Encoding compound ends!\n",
      "\tPositive data : 370\n",
      "\tNegative data : 507\n"
     ]
    },
    {
     "name": "stderr",
     "output_type": "stream",
     "text": [
      "\n"
     ]
    }
   ],
   "source": [
    "dti_data = parse_DTI_data(\"./SampleData/DTI/Validation/Validation_DTI.csv\", \n",
    "                   \"./SampleData/DTI/Validation/Validation_Compound.csv\", \n",
    "                   \"./SampleData/DTI/Validation/Validation_Protein.csv\", \n",
    "                   compound_encoder=compound_encoder, protein_encoder=protein_encoder)"
   ]
  },
  {
   "cell_type": "markdown",
   "metadata": {},
   "source": [
    "Basically, AUC and AUPR are calculated.\n",
    "\n",
    "You can put `threshold` argument, then sensitivity, specificity, precision, accuracy, F1 scores are also calculated."
   ]
  },
  {
   "cell_type": "code",
   "execution_count": 9,
   "metadata": {},
   "outputs": [
    {
     "name": "stdout",
     "output_type": "stream",
     "text": [
      "\tSen :  0.5648648648648649\n",
      "\tSpe :  0.8777120315581854\n",
      "\tPrecision :  0.7712177121771218\n",
      "\tAcc :  0.7457240592930444\n",
      "\tF1 :  0.6521060842433697\n",
      "\tArea Under ROC Curve(AUC): 0.826\n",
      "\tArea Under PR Curve(AUPR): 0.790\n",
      "\tOptimal threshold(AUC)   : 0.000 \n",
      "\tOptimal threshold(AUPR)  : 0.359\n",
      "=================================================\n"
     ]
    },
    {
     "name": "stderr",
     "output_type": "stream",
     "text": [
      "/home/dlsrnsi/DTI/HoTS_github/HoTS/HoTS/model/hots.py:205: RuntimeWarning: divide by zero encountered in true_divide\n",
      "  EERs = (1-recall)/(1-precision)\n"
     ]
    }
   ],
   "source": [
    "dti_evalution_result = dti_model.DTI_validation(threshold=0.4, **dti_data)"
   ]
  },
  {
   "cell_type": "markdown",
   "metadata": {},
   "source": [
    "evaluation results are summarized as dictionary object"
   ]
  },
  {
   "cell_type": "code",
   "execution_count": 10,
   "metadata": {},
   "outputs": [
    {
     "data": {
      "text/plain": [
       "{'Sen': 0.5648648648648649,\n",
       " 'Spe': 0.8777120315581854,\n",
       " 'Acc': 0.7457240592930444,\n",
       " 'Pre': 0.7712177121771218,\n",
       " 'F1': 0.6521060842433697,\n",
       " 'AUC': 0.8260408337331414,\n",
       " 'AUPR': 0.7895424822083337}"
      ]
     },
     "execution_count": 10,
     "metadata": {},
     "output_type": "execute_result"
    }
   ],
   "source": [
    "dti_evalution_result"
   ]
  },
  {
   "cell_type": "markdown",
   "metadata": {},
   "source": [
    "## Predict BRs and DTIs without loading data"
   ]
  },
  {
   "cell_type": "code",
   "execution_count": 11,
   "metadata": {},
   "outputs": [],
   "source": [
    "import urllib\n",
    "uniprot_url = \"https://www.uniprot.org/uniprot/{0}.fasta\"\n",
    "from Bio import Entrez\n",
    "\n",
    "def get_smiles_from_cid(cid):\n",
    "    return urllib.request.urlopen(\"https://pubchem.ncbi.nlm.nih.gov/rest/pug/compound/cid/%d/property/CanonicalSMILES/txt\"%cid).read().decode(\"utf-8\").strip()\n",
    " \n",
    "def get_seq_from_uniprot_acc(uniprot_acc):\n",
    "    opened = urllib.request.urlopen(uniprot_url.format(uniprot_acc))\n",
    "    lines = opened.readlines()\n",
    "    return \"\".join([line.decode(\"utf-8\").rstrip() for line in lines[1:]])"
   ]
  },
  {
   "cell_type": "code",
   "execution_count": 12,
   "metadata": {},
   "outputs": [],
   "source": [
    "# SMILES of drug (should be listed)\n",
    "\n",
    "drugs = [get_smiles_from_cid(5291), get_smiles_from_cid(219024)]\n",
    "\n",
    "# Sequences (should be listed)\n",
    "\n",
    "targets = [get_seq_from_uniprot_acc(\"P00519\"), get_seq_from_uniprot_acc(\"P29274\")]"
   ]
  },
  {
   "cell_type": "markdown",
   "metadata": {},
   "source": [
    "Encoding SMILES and Sequence with defined encoder"
   ]
  },
  {
   "cell_type": "code",
   "execution_count": 13,
   "metadata": {},
   "outputs": [],
   "source": [
    "drugs_fp = [compound_encoder.encode(drug) for drug in drugs]\n",
    "targets_encoded = [protein_encoder.encode(target) for target in targets]"
   ]
  },
  {
   "cell_type": "markdown",
   "metadata": {},
   "source": [
    "For protein sequences with different lengths, you need to pad sequence."
   ]
  },
  {
   "cell_type": "code",
   "execution_count": 14,
   "metadata": {},
   "outputs": [],
   "source": [
    "target_encoded = protein_encoder.pad(targets_encoded)"
   ]
  },
  {
   "cell_type": "code",
   "execution_count": 15,
   "metadata": {},
   "outputs": [
    {
     "data": {
      "text/plain": [
       "(2, 1130)"
      ]
     },
     "execution_count": 15,
     "metadata": {},
     "output_type": "execute_result"
    }
   ],
   "source": [
    "target_encoded.shape"
   ]
  },
  {
   "cell_type": "markdown",
   "metadata": {},
   "source": [
    "### Prediction of DTIs"
   ]
  },
  {
   "cell_type": "markdown",
   "metadata": {},
   "source": [
    "you can simply predict DTIs with `DTI_prediction` function of `dti_model` object"
   ]
  },
  {
   "cell_type": "code",
   "execution_count": 16,
   "metadata": {},
   "outputs": [
    {
     "data": {
      "text/plain": [
       "array([[0.92619896],\n",
       "       [0.8873392 ]], dtype=float32)"
      ]
     },
     "execution_count": 16,
     "metadata": {},
     "output_type": "execute_result"
    }
   ],
   "source": [
    "dti_model.DTI_prediction(drugs_fp, targets_encoded)"
   ]
  },
  {
   "cell_type": "markdown",
   "metadata": {},
   "source": [
    "### Prediction of BRs"
   ]
  },
  {
   "cell_type": "markdown",
   "metadata": {},
   "source": [
    "you can predict BRs with `HoTS_prediction` but it's hard to interpret"
   ]
  },
  {
   "cell_type": "code",
   "execution_count": 17,
   "metadata": {
    "scrolled": false
   },
   "outputs": [
    {
     "data": {
      "text/plain": [
       "(array([[0.92619896],\n",
       "        [0.8873392 ]], dtype=float32),\n",
       " [[(367, 385, 0.7754790186882019),\n",
       "   (359, 373, 0.7527496218681335),\n",
       "   (308, 324, 0.7307592630386353),\n",
       "   (249, 264, 0.7113943099975586),\n",
       "   (288, 303, 0.7104097604751587),\n",
       "   (315, 330, 0.6692482233047485),\n",
       "   (281, 294, 0.6628872156143188),\n",
       "   (299, 312, 0.6184608936309814),\n",
       "   (378, 390, 0.6164246201515198),\n",
       "   (350, 364, 0.6097195148468018),\n",
       "   (258, 273, 0.6040068864822388),\n",
       "   (1059, 1071, 0.5806174874305725),\n",
       "   (241, 253, 0.5787888169288635),\n",
       "   (328, 341, 0.5430454015731812),\n",
       "   (388, 401, 0.5384601950645447),\n",
       "   (339, 351, 0.5373850464820862),\n",
       "   (1101, 1113, 0.5239614844322205),\n",
       "   (168, 180, 0.5186799764633179),\n",
       "   (467, 481, 0.517566978931427),\n",
       "   (409, 421, 0.507867157459259),\n",
       "   (398, 410, 0.5074823498725891),\n",
       "   (741, 753, 0.4995215833187103),\n",
       "   (510, 522, 0.49692490696907043),\n",
       "   (159, 173, 0.49686112999916077),\n",
       "   (1037, 1048, 0.4954761862754822),\n",
       "   (676, 688, 0.492410808801651),\n",
       "   (428, 441, 0.49102842807769775),\n",
       "   (1111, 1123, 0.4900718033313751),\n",
       "   (1069, 1081, 0.48933151364326477),\n",
       "   (209, 222, 0.4872766435146332),\n",
       "   (690, 702, 0.48719078302383423),\n",
       "   (196, 210, 0.4836968183517456),\n",
       "   (489, 501, 0.48229721188545227),\n",
       "   (437, 449, 0.48204272985458374),\n",
       "   (267, 279, 0.4751322865486145),\n",
       "   (1116, 1128, 0.4741787016391754),\n",
       "   (218, 230, 0.47043174505233765),\n",
       "   (1050, 1062, 0.46991944313049316),\n",
       "   (418, 430, 0.46771422028541565),\n",
       "   (228, 240, 0.45707011222839355),\n",
       "   (718, 730, 0.4516219198703766),\n",
       "   (497, 510, 0.4515747129917145),\n",
       "   (479, 490, 0.4505651891231537),\n",
       "   (661, 672, 0.4503043591976166),\n",
       "   (939, 951, 0.44626274704933167),\n",
       "   (188, 201, 0.44580283761024475),\n",
       "   (779, 790, 0.4433326721191406),\n",
       "   (747, 759, 0.4429975152015686),\n",
       "   (999, 1010, 0.4396181106567383),\n",
       "   (517, 529, 0.4373759329319),\n",
       "   (87, 102, 0.43659842014312744),\n",
       "   (671, 683, 0.4362870454788208),\n",
       "   (460, 471, 0.43591803312301636),\n",
       "   (730, 742, 0.4352009892463684),\n",
       "   (568, 579, 0.4347338080406189),\n",
       "   (178, 190, 0.4340347945690155),\n",
       "   (449, 461, 0.42860668897628784),\n",
       "   (589, 601, 0.4270690381526947),\n",
       "   (51, 63, 0.4236215054988861),\n",
       "   (1008, 1019, 0.4198174774646759),\n",
       "   (829, 841, 0.41856807470321655),\n",
       "   (597, 609, 0.4157201051712036),\n",
       "   (758, 769, 0.4123764634132385),\n",
       "   (709, 720, 0.41128072142601013),\n",
       "   (821, 832, 0.41121894121170044),\n",
       "   (790, 803, 0.4085158705711365),\n",
       "   (649, 660, 0.4053734242916107),\n",
       "   (769, 780, 0.4035765528678894),\n",
       "   (140, 151, 0.39725032448768616),\n",
       "   (1077, 1089, 0.3954773545265198),\n",
       "   (1020, 1032, 0.39386850595474243),\n",
       "   (870, 881, 0.39371195435523987),\n",
       "   (80, 92, 0.39039450883865356),\n",
       "   (990, 1002, 0.38493406772613525),\n",
       "   (1091, 1103, 0.3833068907260895),\n",
       "   (617, 629, 0.3732320964336395),\n",
       "   (67, 80, 0.36717110872268677),\n",
       "   (960, 971, 0.36678847670555115),\n",
       "   (58, 71, 0.36445164680480957),\n",
       "   (528, 540, 0.3643577992916107),\n",
       "   (640, 651, 0.3579157292842865),\n",
       "   (1027, 1039, 0.3573017120361328),\n",
       "   (148, 161, 0.3547450602054596),\n",
       "   (699, 711, 0.35341575741767883),\n",
       "   (560, 571, 0.35212820768356323),\n",
       "   (127, 140, 0.3500535488128662),\n",
       "   (578, 589, 0.34837472438812256),\n",
       "   (930, 941, 0.34809404611587524),\n",
       "   (609, 620, 0.3475070595741272),\n",
       "   (839, 851, 0.34604498744010925),\n",
       "   (900, 911, 0.3457389771938324),\n",
       "   (629, 640, 0.3419089913368225),\n",
       "   (538, 550, 0.3364529609680176),\n",
       "   (108, 119, 0.32772010564804077),\n",
       "   (860, 871, 0.3221820294857025),\n",
       "   (118, 130, 0.3150460422039032),\n",
       "   (890, 902, 0.3139590919017792),\n",
       "   (99, 112, 0.31393301486968994),\n",
       "   (799, 811, 0.3097008168697357),\n",
       "   (949, 961, 0.30563318729400635),\n",
       "   (850, 861, 0.303726464509964),\n",
       "   (921, 932, 0.3008982539176941),\n",
       "   (809, 821, 0.2933652400970459),\n",
       "   (909, 921, 0.2899033725261688),\n",
       "   (969, 980, 0.28974372148513794),\n",
       "   (550, 561, 0.28623107075691223),\n",
       "   (979, 991, 0.28478941321372986),\n",
       "   (29, 41, 0.2793216407299042),\n",
       "   (18, 30, 0.2724779546260834),\n",
       "   (0, 11, 0.2658140957355499),\n",
       "   (879, 891, 0.2526775896549225),\n",
       "   (39, 52, 0.2484341561794281),\n",
       "   (9, 21, 0.24612674117088318)],\n",
       "  [(178, 193, 0.7203496694564819),\n",
       "   (256, 270, 0.7147498726844788),\n",
       "   (167, 182, 0.6825667023658752),\n",
       "   (116, 130, 0.6742864847183228),\n",
       "   (60, 74, 0.6689630150794983),\n",
       "   (276, 290, 0.6504344940185547),\n",
       "   (66, 80, 0.6204219460487366),\n",
       "   (231, 243, 0.6147748231887817),\n",
       "   (79, 93, 0.6080402135848999),\n",
       "   (360, 373, 0.607557475566864),\n",
       "   (236, 249, 0.6062252521514893),\n",
       "   (328, 341, 0.6039417386054993),\n",
       "   (320, 332, 0.5920565724372864),\n",
       "   (288, 302, 0.591025173664093),\n",
       "   (137, 150, 0.58655846118927),\n",
       "   (248, 261, 0.5856147408485413),\n",
       "   (86, 99, 0.5846686363220215),\n",
       "   (109, 121, 0.5739574432373047),\n",
       "   (268, 281, 0.5646191835403442),\n",
       "   (349, 360, 0.5539320111274719),\n",
       "   (27, 41, 0.5504845380783081),\n",
       "   (8, 21, 0.5409402251243591),\n",
       "   (98, 112, 0.5306594371795654),\n",
       "   (378, 389, 0.5269989967346191),\n",
       "   (339, 351, 0.5269603729248047),\n",
       "   (130, 143, 0.524653434753418),\n",
       "   (217, 229, 0.5230762958526611),\n",
       "   (38, 52, 0.5216661691665649),\n",
       "   (188, 201, 0.5199731588363647),\n",
       "   (159, 172, 0.5195435285568237),\n",
       "   (18, 31, 0.506389856338501),\n",
       "   (369, 381, 0.47706490755081177),\n",
       "   (198, 211, 0.47230657935142517),\n",
       "   (150, 162, 0.47123295068740845),\n",
       "   (306, 319, 0.4672033488750458),\n",
       "   (386, 398, 0.46192145347595215),\n",
       "   (1, 14, 0.45639756321907043),\n",
       "   (49, 63, 0.44858309626579285),\n",
       "   (211, 223, 0.4227871894836426),\n",
       "   (298, 311, 0.4105325937271118),\n",
       "   (398, 410, 0.4097684621810913),\n",
       "   (407, 418, 0.33147358894348145),\n",
       "   (856, 864, 0.0),\n",
       "   (916, 924, 0.0),\n",
       "   (906, 914, 0.0),\n",
       "   (896, 904, 0.0),\n",
       "   (886, 894, 0.0),\n",
       "   (876, 884, 0.0),\n",
       "   (866, 874, 0.0),\n",
       "   (836, 844, 0.0),\n",
       "   (846, 854, 0.0),\n",
       "   (936, 944, 0.0),\n",
       "   (826, 834, 0.0),\n",
       "   (816, 824, 0.0),\n",
       "   (806, 814, 0.0),\n",
       "   (796, 804, 0.0),\n",
       "   (786, 794, 0.0),\n",
       "   (926, 934, 0.0),\n",
       "   (956, 964, 0.0),\n",
       "   (946, 954, 0.0),\n",
       "   (1036, 1044, 0.0),\n",
       "   (1096, 1104, 0.0),\n",
       "   (1086, 1094, 0.0),\n",
       "   (1076, 1084, 0.0),\n",
       "   (1066, 1074, 0.0),\n",
       "   (1056, 1064, 0.0),\n",
       "   (1046, 1054, 0.0),\n",
       "   (1026, 1034, 0.0),\n",
       "   (1106, 1114, 0.0),\n",
       "   (1016, 1024, 0.0),\n",
       "   (1006, 1014, 0.0),\n",
       "   (996, 1004, 0.0),\n",
       "   (986, 994, 0.0),\n",
       "   (976, 984, 0.0),\n",
       "   (966, 974, 0.0),\n",
       "   (776, 784, 0.0),\n",
       "   (766, 774, 0.0),\n",
       "   (756, 764, 0.0),\n",
       "   (746, 754, 0.0),\n",
       "   (556, 564, 0.0),\n",
       "   (546, 554, 0.0),\n",
       "   (536, 544, 0.0),\n",
       "   (526, 534, 0.0),\n",
       "   (516, 524, 0.0),\n",
       "   (506, 514, 0.0),\n",
       "   (496, 504, 0.0),\n",
       "   (486, 494, 0.0),\n",
       "   (476, 484, 0.0),\n",
       "   (466, 474, 0.0),\n",
       "   (456, 464, 0.0),\n",
       "   (446, 454, 0.0),\n",
       "   (436, 444, 0.0),\n",
       "   (426, 434, 0.0),\n",
       "   (416, 424, 0.0),\n",
       "   (566, 574, 0.0),\n",
       "   (576, 584, 0.0),\n",
       "   (586, 594, 0.0),\n",
       "   (676, 684, 0.0),\n",
       "   (736, 744, 0.0),\n",
       "   (726, 734, 0.0),\n",
       "   (716, 724, 0.0),\n",
       "   (706, 714, 0.0),\n",
       "   (696, 704, 0.0),\n",
       "   (686, 694, 0.0),\n",
       "   (666, 674, 0.0),\n",
       "   (596, 604, 0.0),\n",
       "   (656, 664, 0.0),\n",
       "   (646, 654, 0.0),\n",
       "   (636, 644, 0.0),\n",
       "   (626, 634, 0.0),\n",
       "   (616, 624, 0.0),\n",
       "   (606, 614, 0.0),\n",
       "   (1116, 1124, 0.0)]])"
      ]
     },
     "execution_count": 17,
     "metadata": {},
     "output_type": "execute_result"
    }
   ],
   "source": [
    "dti_model.HoTS_prediction(drugs_fp, targets_encoded)"
   ]
  },
  {
   "cell_type": "markdown",
   "metadata": {},
   "source": [
    "### Visualization of BR predictions"
   ]
  },
  {
   "cell_type": "markdown",
   "metadata": {},
   "source": [
    "You can visualize result with `HoTS_visualization`, but you need to give list of names for each visualiztion"
   ]
  },
  {
   "cell_type": "code",
   "execution_count": 18,
   "metadata": {},
   "outputs": [],
   "source": [
    "names = [\"ABL1_imatinib\", \"AA2AR_Regadenoson\"]"
   ]
  },
  {
   "cell_type": "code",
   "execution_count": 19,
   "metadata": {},
   "outputs": [
    {
     "name": "stdout",
     "output_type": "stream",
     "text": [
      "Prediction with 0.600000\n",
      "ABL1_imatinib\n",
      "DTI score :  [0.92619896]\n",
      "  Sequence : MLEICLKLVGCKSKKGLSSSSSCYLEEALQRPVASDFEPQGLSEAARWNSKENLLAGPSENDPNLFVALYDFVASGDNTLSITKGEKLRVLGYNHNGEWC\n",
      "Prediction :                                                                                                     \n",
      "     Score :                                                                                                     \n",
      "  Sequence : EAQTKNGQGWVPSNYITPVNSLEKHSWYHGPVSRNAAEYLLSSGINGSFLVRESESSPGQRSISLRYEGRVYHYRINTASDGKLYVSSESRFNTLAELVH\n",
      "Prediction :                                                                                                     \n",
      "     Score :                                                                                                     \n",
      "  Sequence : HHSTVADGLITTLHYPAPKRNKPTVYGVSPNYDKWEMERTDITMKHKLGGGQYGEVYEGVWKKYSLTVAVKTLKEDTMEVEEFLKEAAVMKEIKHPNLVQ\n",
      "Prediction :                                                  GGQYGEVYEGVWKKYSLTVAVKTL        EFLKEAAVMKEIKHPNLVQ\n",
      "     Score :                                                  71%      60%                    66%    71%        6\n",
      "  Sequence : LLGVCTREPPFYIITEFMTYGNLLDYLRECNRQEVNAVVLLYMATQISSAMEYLEKKNFIHRDLAARNCLVGENHLVKVADFGLSRLMTGDTYTAHAGAK\n",
      "Prediction : LLGVCTREPPFYIITEFMTYGNLLDYLREC                    MEYLEKKNFIHRDLAARNCLVGENHLVKVADFGLSRLMTG          \n",
      "     Score : 1%      73%    66%                                60%      75%     77%        61%                   \n",
      "  Sequence : FPIKWTAPESLAYNKFSIKSDVWAFGVLLWEIATYGMSPYPGIDLSQVYELLEKDYRMERPEGCPEKVYELMRACWQWNPSDRPSFAEIHQAFETMFQES\n",
      "Prediction :                                                                                                     \n",
      "     Score :                                                                                                     \n",
      "  Sequence : SISDEVEKELGKQGVRGAVSTLLQAPELPTKTRTSRRAAEHRDTTDVPEMPHSKGQGESDPLDHEPAVSPLLPRKERGPPEGGLNEDERLLPKDKKTNLF\n",
      "Prediction :                                                                                                     \n",
      "     Score :                                                                                                     \n",
      "  Sequence : SALIKKKKKTAPTPPKRSSSFREMDGQPERRGAGEEEGRDISNGALAFTPLDTADPAKSPKPSNGAGVPNGALRESGGSGFRSPHLWKKSSTLTSSRLAT\n",
      "Prediction :                                                                                                     \n",
      "     Score :                                                                                                     \n",
      "  Sequence : GEEEGGGSSSKRFLRSCSASCVPHGAKDTEWRSVTLPRDLQSTGRQFDSSTFGGHKSEKPALPRKRAGENRSDQVTRGTVTPPPRLVKKNEEAADEVFKD\n",
      "Prediction :                                                                                                     \n",
      "     Score :                                                                                                     \n",
      "  Sequence : IMESSPGSSPPNLTPKPLRRQVTVAPASGLPHKEEAGKGSALGTPAAAEPVTPTSKAGSGAPGGTSKGPAEESRVRRHKHSSESPGRDKGKLSRLKPAPP\n",
      "Prediction :                                                                                                     \n",
      "     Score :                                                                                                     \n",
      "  Sequence : PPPAASAGKAGGKPSQSPSQEAAGEAVLGAKTKATSLVDAVNSDAAKPSQPGEGLKKPVLPATPKPQSAKPSGTPISPAPVPSTLPSASSALAGDQPSST\n",
      "Prediction :                                                                                                     \n",
      "     Score :                                                                                                     \n",
      "  Sequence : AFIPLISTRVSLRKTRQPPERIASGAITKGVVLDSTEALCLAISRNSEQMASHSAVLEAGKNLYTFCVSYVDSIQQMRNKFAFREAINKLENNLRELQIC\n",
      "Prediction :                                                                                                     \n",
      "     Score :                                                                                                     \n",
      "  Sequence : PATAGSGPAATQDFSKLLSSVKEISDIVQR\n",
      "Prediction :                               \n",
      "     Score :                               \n",
      "AA2AR_Regadenoson\n",
      "DTI score :  [0.8873392]\n",
      "  Sequence : MPIMGSSVYITVELAIAVLAILGNVLVCWAVWLNSNLQNVTNYFVVSLAAADIAVGVLAIPFAITISTGFCAACHGCLFIACFVLVLTQSSIFSLLAIAI\n",
      "Prediction :                                                             PFAITISTGFCAACHGCLFIACFVLVLTQSSIF       \n",
      "     Score :                                                             66%   62%          60%                  \n",
      "  Sequence : DRYIAIRIPLRYNGLVTGTRAKGIIAICWVLSFAIGLTPMLGWNNCGQPKEGKNHSQGCGEGQVACLFEDVVPMNYMVYFNFFACVLVPLLLMLGVYLRI\n",
      "Prediction :                 TGTRAKGIIAICWV                                     FEDVVPMNYMVYFNFFACVLVPLLLM       \n",
      "     Score :                 67%                                                68%        72%                   \n",
      "  Sequence : FLAARRQLKQMESQPLPGERARSTLQKEVHAAKSLAIIVGLFALCWLPLHIINCFTFFCPDCSHAPLWLMYLAIVLSHTNSVVNPFIYAYRIREFRQTFR\n",
      "Prediction :                                AKSLAIIVGLFALCWLPL       FFCPDCSHAPLWLM      SHTNSVVNPFIYAY          \n",
      "     Score :                                61%  60%                 71%                 65%                     \n",
      "  Sequence : KIIRSHVLRQQEPFKAAGTSARVLAAHGSDGEQVSLRLNGHPPGVWANGSAPHPERRPNGYALGLVSGGSAQESQGNTGLPDVELLSHELKGVCPEPPGL\n",
      "Prediction :                             SDGEQVSLRLNGH                   YALGLVSGGSAQE                           \n",
      "     Score :                             60%                             60%                                     \n",
      "  Sequence : DDPLAQDGAGVS\n",
      "Prediction :             \n",
      "     Score :             \n"
     ]
    }
   ],
   "source": [
    "dti_model.HoTS_visualization(drugs_fp, targets_encoded, targets, protein_names=names, th=0.6)"
   ]
  }
 ],
 "metadata": {
  "kernelspec": {
   "display_name": "Python 3",
   "language": "python",
   "name": "python3"
  },
  "language_info": {
   "codemirror_mode": {
    "name": "ipython",
    "version": 3
   },
   "file_extension": ".py",
   "mimetype": "text/x-python",
   "name": "python",
   "nbconvert_exporter": "python",
   "pygments_lexer": "ipython3",
   "version": "3.6.8"
  }
 },
 "nbformat": 4,
 "nbformat_minor": 2
}
