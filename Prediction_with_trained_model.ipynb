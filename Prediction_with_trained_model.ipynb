{
 "cells": [
  {
   "cell_type": "markdown",
   "metadata": {},
   "source": [
    "# Predict and evaluate DTIs and BR with trained Model"
   ]
  },
  {
   "cell_type": "code",
   "execution_count": 1,
   "metadata": {},
   "outputs": [
    {
     "name": "stderr",
     "output_type": "stream",
     "text": [
      "Using TensorFlow backend.\n",
      "/usr/local/lib/python3.6/dist-packages/tensorflow/python/framework/dtypes.py:523: FutureWarning: Passing (type, 1) or '1type' as a synonym of type is deprecated; in a future version of numpy, it will be understood as (type, (1,)) / '(1,)type'.\n",
      "  _np_qint8 = np.dtype([(\"qint8\", np.int8, 1)])\n",
      "/usr/local/lib/python3.6/dist-packages/tensorflow/python/framework/dtypes.py:524: FutureWarning: Passing (type, 1) or '1type' as a synonym of type is deprecated; in a future version of numpy, it will be understood as (type, (1,)) / '(1,)type'.\n",
      "  _np_quint8 = np.dtype([(\"quint8\", np.uint8, 1)])\n",
      "/usr/local/lib/python3.6/dist-packages/tensorflow/python/framework/dtypes.py:525: FutureWarning: Passing (type, 1) or '1type' as a synonym of type is deprecated; in a future version of numpy, it will be understood as (type, (1,)) / '(1,)type'.\n",
      "  _np_qint16 = np.dtype([(\"qint16\", np.int16, 1)])\n",
      "/usr/local/lib/python3.6/dist-packages/tensorflow/python/framework/dtypes.py:526: FutureWarning: Passing (type, 1) or '1type' as a synonym of type is deprecated; in a future version of numpy, it will be understood as (type, (1,)) / '(1,)type'.\n",
      "  _np_quint16 = np.dtype([(\"quint16\", np.uint16, 1)])\n",
      "/usr/local/lib/python3.6/dist-packages/tensorflow/python/framework/dtypes.py:527: FutureWarning: Passing (type, 1) or '1type' as a synonym of type is deprecated; in a future version of numpy, it will be understood as (type, (1,)) / '(1,)type'.\n",
      "  _np_qint32 = np.dtype([(\"qint32\", np.int32, 1)])\n",
      "/usr/local/lib/python3.6/dist-packages/tensorflow/python/framework/dtypes.py:532: FutureWarning: Passing (type, 1) or '1type' as a synonym of type is deprecated; in a future version of numpy, it will be understood as (type, (1,)) / '(1,)type'.\n",
      "  np_resource = np.dtype([(\"resource\", np.ubyte, 1)])\n"
     ]
    }
   ],
   "source": [
    "from HoTS.model.hots import *\n",
    "from HoTS.utils.build_features import *"
   ]
  },
  {
   "cell_type": "markdown",
   "metadata": {},
   "source": [
    "Firstly, you need to define encoders for protein sequences and compounds with given encoding types."
   ]
  },
  {
   "cell_type": "code",
   "execution_count": 2,
   "metadata": {},
   "outputs": [],
   "source": [
    "# define input feature\n",
    "prot_vec = \"Sequence\"\n",
    "drug_vec = \"Morgan\"\n",
    "drug_len = 2048\n",
    "radius = 2\n",
    "protein_encoder = ProteinEncoder(prot_vec)\n",
    "compound_encoder = CompoundEncoder(drug_vec, radius=radius, n_bits=drug_len)"
   ]
  },
  {
   "cell_type": "markdown",
   "metadata": {},
   "source": [
    "## Load trained model"
   ]
  },
  {
   "cell_type": "markdown",
   "metadata": {},
   "source": [
    "You need to intialize model"
   ]
  },
  {
   "cell_type": "code",
   "execution_count": 3,
   "metadata": {},
   "outputs": [
    {
     "name": "stdout",
     "output_type": "stream",
     "text": [
      "Hots model initialization done!\n"
     ]
    }
   ],
   "source": [
    "# initialize model\n",
    "dti_model = HoTS()"
   ]
  },
  {
   "cell_type": "markdown",
   "metadata": {},
   "source": [
    "Then you can load model. You can use `dti_model.load_model(\"output.config.json\")`"
   ]
  },
  {
   "cell_type": "code",
   "execution_count": 4,
   "metadata": {
    "scrolled": false
   },
   "outputs": [
    {
     "name": "stdout",
     "output_type": "stream",
     "text": [
      "Given hyperparamters in ./Model/HoTS_config.json are loaded\n",
      "\n",
      "protein_grid_size   :  10\n",
      "compound_grid_size  :  None\n",
      "anchors             :  [9]\n",
      "hots_dimension      :  128\n",
      "hots_n_heads        :  4\n",
      "dropout             :  0.1\n",
      "drug_layers         :  [512, 128]\n",
      "protein_strides     :  [5, 10, 15, 20, 25, 30]\n",
      "filters             :  128\n",
      "fc_layers           :  [256, 64]\n",
      "hots_fc_layers      :  [256, 64]\n",
      "learning_rate       :  0.0001\n",
      "prot_vec            :  Sequence\n",
      "drug_vec            :  Morgan\n",
      "drug_len            :  2048\n",
      "activation          :  gelu\n",
      "protein_layers      :  [128, 128, 128, 128]\n",
      "reg_loss_weight     :  0.1\n",
      "conf_loss_weight    :  1\n",
      "negative_loss_weight:  0.1\n",
      "retina_loss_weight  :  2\n",
      "decay               :  0.0001\n",
      "hots_file           :  ./Model/HoTS.h5\n",
      "dti_file            :  ./Model/DTI.h5\n",
      "hots_validation_results:  {}\n",
      "dti_validation_results:  {'MATADOR_DTI': [{'AUC': 0.6055226824457594, 'AUPR': 0.5292486343535088}, {'AUC': 0.5882616344154805, 'AUPR': 0.5303096078019971}, {'AUC': 0.583511914281145, 'AUPR': 0.519665186632455}, {'AUC': 0.5810011194626579, 'AUPR': 0.5175772095988646}, {'AUC': 0.7315688469534624, 'AUPR': 0.684015600969329}, {'AUC': 0.7398688629457861, 'AUPR': 0.6686561131602171}, {'AUC': 0.7447305293459139, 'AUPR': 0.6773587613685894}, {'AUC': 0.7423849885388347, 'AUPR': 0.6697571213381371}, {'AUC': 0.7814542353003892, 'AUPR': 0.7445623992691217}, {'AUC': 0.802734687350072, 'AUPR': 0.7641506921391727}, {'AUC': 0.8044085505623967, 'AUPR': 0.7653623752517744}, {'AUC': 0.803331734100965, 'AUPR': 0.7642136090131033}, {'AUC': 0.8091049629511168, 'AUPR': 0.7674974255072599}, {'AUC': 0.8089503704888319, 'AUPR': 0.7687374089194681}, {'AUC': 0.8079481848712619, 'AUPR': 0.7675004600543336}, {'AUC': 0.8055440055440056, 'AUPR': 0.7639363702748642}, {'AUC': 0.8257689642305026, 'AUPR': 0.7907352310823916}, {'AUC': 0.8269257423103576, 'AUPR': 0.7911795001652043}, {'AUC': 0.8260195106348953, 'AUPR': 0.7893611899548728}, {'AUC': 0.8237006237006237, 'AUPR': 0.7858476419789799}]}\n",
      "n_stack_hots_prediction:  2\n",
      "protein_encoder_config:  {'feature': 'Sequence'}\n",
      "compound_encoder_config:  {'radius': 2, 'feature': 'Morgan', 'n_bits': 2048}\n",
      " \n",
      "\tHoTS Model loaded at ./Model/HoTS.h5\n",
      "\tDTI Model loaded at ./Model/DTI.h5\n"
     ]
    }
   ],
   "source": [
    "# load model\n",
    "dti_model.load_model(\"./Model/HoTS_config.json\")"
   ]
  },
  {
   "cell_type": "markdown",
   "metadata": {},
   "source": [
    "## Load BR dataset, predict and evaluate Performance"
   ]
  },
  {
   "cell_type": "markdown",
   "metadata": {},
   "source": [
    "You can use the `parse_HoTS_data` function to load HoTS data as input of the HoTS model.\n",
    "\n",
    "`parse_HoTS_data` is located in `HoTS.utils.build_features`.\n",
    "\n",
    "If it contains `binding_region` columns you parsed, then set `binding_region=True`."
   ]
  },
  {
   "cell_type": "code",
   "execution_count": 5,
   "metadata": {},
   "outputs": [
    {
     "name": "stderr",
     "output_type": "stream",
     "text": [
      "100%|██████████| 232/232 [00:00<00:00, 29246.17it/s]"
     ]
    },
    {
     "name": "stdout",
     "output_type": "stream",
     "text": [
      "Parsing HoTS data: ./SampleData/HoTS/Validation_HoTS.tsv\n",
      "Number of 3D-complexes : 232\n",
      "Number of proteins : 207\n"
     ]
    },
    {
     "name": "stderr",
     "output_type": "stream",
     "text": [
      "\n"
     ]
    }
   ],
   "source": [
    "hots_data = parse_HoTS_data(\"./SampleData/HoTS/Validation_HoTS.tsv\",\n",
    "                           compound_encoder=compound_encoder, protein_encoder=protein_encoder, \n",
    "                          binding_region=True)"
   ]
  },
  {
   "cell_type": "markdown",
   "metadata": {},
   "source": [
    "You can predict BRs with `HoTS_prediction`."
   ]
  },
  {
   "cell_type": "code",
   "execution_count": 6,
   "metadata": {},
   "outputs": [],
   "source": [
    "hots_prediction_result = dti_model.HoTS_prediction(**hots_data)"
   ]
  },
  {
   "cell_type": "markdown",
   "metadata": {},
   "source": [
    "It returns a tuple of DTI predictions and BR predictions"
   ]
  },
  {
   "cell_type": "code",
   "execution_count": 7,
   "metadata": {},
   "outputs": [
    {
     "data": {
      "text/plain": [
       "[(307, 321, 0.7835828065872192),\n",
       " (318, 333, 0.7639481425285339),\n",
       " (299, 312, 0.7182453870773315),\n",
       " (327, 342, 0.6910973191261292),\n",
       " (336, 349, 0.6828732490539551),\n",
       " (231, 243, 0.676645040512085),\n",
       " (366, 380, 0.6762275099754333),\n",
       " (387, 400, 0.6689488887786865),\n",
       " (291, 303, 0.6437587738037109),\n",
       " (249, 261, 0.6274698376655579)]"
      ]
     },
     "execution_count": 7,
     "metadata": {},
     "output_type": "execute_result"
    }
   ],
   "source": [
    "hots_prediction_result[1][0][0:10]"
   ]
  },
  {
   "cell_type": "markdown",
   "metadata": {},
   "source": [
    "Please see under sections for interpretation of this result"
   ]
  },
  {
   "cell_type": "markdown",
   "metadata": {},
   "source": [
    "You can evaluate BR prediction results with the `HoTS_validation` function,\n",
    "\n",
    "then AP will be calculated. __(It takes a lot of time for AP calculation, so that you can skip it)__"
   ]
  },
  {
   "cell_type": "code",
   "execution_count": 8,
   "metadata": {},
   "outputs": [
    {
     "name": "stdout",
     "output_type": "stream",
     "text": [
      "\tAP :  0.7196415938563052\n",
      "=================================================\n"
     ]
    }
   ],
   "source": [
    "hots_evalution_result = dti_model.HoTS_validation(**hots_data)"
   ]
  },
  {
   "cell_type": "markdown",
   "metadata": {},
   "source": [
    "evaluation results are summarized as a dictionary object"
   ]
  },
  {
   "cell_type": "code",
   "execution_count": 9,
   "metadata": {},
   "outputs": [
    {
     "data": {
      "text/plain": [
       "{'AP': 0.7196415938563052}"
      ]
     },
     "execution_count": 9,
     "metadata": {},
     "output_type": "execute_result"
    }
   ],
   "source": [
    "hots_evalution_result"
   ]
  },
  {
   "cell_type": "markdown",
   "metadata": {},
   "source": [
    "## Load DTI dataset, predict and evaluate Performance"
   ]
  },
  {
   "cell_type": "markdown",
   "metadata": {},
   "source": [
    "You can use the `parse_DTI_data` function to load HoTS data as the input of HoTS model.\n",
    "\n",
    "`parse_DTI_data` is located in `HoTS.utils.build_features`"
   ]
  },
  {
   "cell_type": "code",
   "execution_count": 10,
   "metadata": {},
   "outputs": [
    {
     "name": "stdout",
     "output_type": "stream",
     "text": [
      "Parsing ./SampleData/DTI/Validation/Validation_DTI.csv , ./SampleData/DTI/Validation/Validation_Compound.csv, ./SampleData/DTI/Validation/Validation_Protein.csv with length 2500, type None\n"
     ]
    },
    {
     "name": "stderr",
     "output_type": "stream",
     "text": [
      "  5%|▍         | 24/499 [00:00<00:01, 238.20it/s]"
     ]
    },
    {
     "name": "stdout",
     "output_type": "stream",
     "text": [
      "Encoding compound with Morgan type\n"
     ]
    },
    {
     "name": "stderr",
     "output_type": "stream",
     "text": [
      "100%|██████████| 499/499 [00:02<00:00, 237.80it/s]"
     ]
    },
    {
     "name": "stdout",
     "output_type": "stream",
     "text": [
      "Encoding compound ends!\n",
      "\tPositive data : 370\n",
      "\tNegative data : 507\n"
     ]
    },
    {
     "name": "stderr",
     "output_type": "stream",
     "text": [
      "\n"
     ]
    }
   ],
   "source": [
    "dti_data = parse_DTI_data(\"./SampleData/DTI/Validation/Validation_DTI.csv\", \n",
    "                   \"./SampleData/DTI/Validation/Validation_Compound.csv\", \n",
    "                   \"./SampleData/DTI/Validation/Validation_Protein.csv\", \n",
    "                   compound_encoder=compound_encoder, protein_encoder=protein_encoder)"
   ]
  },
  {
   "cell_type": "markdown",
   "metadata": {},
   "source": [
    "You can predict DTI with the `DTI_prediction` function"
   ]
  },
  {
   "cell_type": "code",
   "execution_count": 11,
   "metadata": {},
   "outputs": [],
   "source": [
    "dti_prediction = dti_model.DTI_prediction(**dti_data)"
   ]
  },
  {
   "cell_type": "markdown",
   "metadata": {},
   "source": [
    "Also, you can easily evaluate perforamnce with the `DTI_validation` function.\n",
    "\n",
    "Basically, HoTS will calculate AUC and AUPR.\n",
    "\n",
    "You can put `threshold` argument, then sensitivity, specificity, precision, accuracy, F1 scores are also calculated."
   ]
  },
  {
   "cell_type": "code",
   "execution_count": 12,
   "metadata": {},
   "outputs": [
    {
     "name": "stdout",
     "output_type": "stream",
     "text": [
      "\tSen :  0.5648648648648649\n",
      "\tSpe :  0.8777120315581854\n",
      "\tPrecision :  0.7712177121771218\n",
      "\tAcc :  0.7457240592930444\n",
      "\tF1 :  0.6521060842433697\n",
      "\tArea Under ROC Curve(AUC): 0.826\n",
      "\tArea Under PR Curve(AUPR): 0.790\n",
      "\tOptimal threshold(AUC)   : 0.000 \n",
      "\tOptimal threshold(AUPR)  : 0.359\n",
      "=================================================\n"
     ]
    },
    {
     "name": "stderr",
     "output_type": "stream",
     "text": [
      "/home/dlsrnsi/DTI/HoTS_github/HoTS/HoTS/model/hots.py:208: RuntimeWarning: divide by zero encountered in true_divide\n",
      "  EERs = (1-recall)/(1-precision)\n"
     ]
    }
   ],
   "source": [
    "dti_evalution_result = dti_model.DTI_validation(threshold=0.4, **dti_data)"
   ]
  },
  {
   "cell_type": "markdown",
   "metadata": {},
   "source": [
    "Evaluation results are summarized as a dictionary object."
   ]
  },
  {
   "cell_type": "code",
   "execution_count": 13,
   "metadata": {},
   "outputs": [
    {
     "data": {
      "text/plain": [
       "{'Sen': 0.5648648648648649,\n",
       " 'Spe': 0.8777120315581854,\n",
       " 'Acc': 0.7457240592930444,\n",
       " 'Pre': 0.7712177121771218,\n",
       " 'F1': 0.6521060842433697,\n",
       " 'AUC': 0.8260408337331414,\n",
       " 'AUPR': 0.7895424822083337}"
      ]
     },
     "execution_count": 13,
     "metadata": {},
     "output_type": "execute_result"
    }
   ],
   "source": [
    "dti_evalution_result"
   ]
  },
  {
   "cell_type": "markdown",
   "metadata": {},
   "source": [
    "## Predict BRs and DTIs without loading data"
   ]
  },
  {
   "cell_type": "code",
   "execution_count": 14,
   "metadata": {},
   "outputs": [],
   "source": [
    "import urllib\n",
    "uniprot_url = \"https://www.uniprot.org/uniprot/{0}.fasta\"\n",
    "from Bio import Entrez\n",
    "\n",
    "def get_smiles_from_cid(cid):\n",
    "    return urllib.request.urlopen(\"https://pubchem.ncbi.nlm.nih.gov/rest/pug/compound/cid/%d/property/CanonicalSMILES/txt\"%cid).read().decode(\"utf-8\").strip()\n",
    " \n",
    "def get_seq_from_uniprot_acc(uniprot_acc):\n",
    "    opened = urllib.request.urlopen(uniprot_url.format(uniprot_acc))\n",
    "    lines = opened.readlines()\n",
    "    return \"\".join([line.decode(\"utf-8\").rstrip() for line in lines[1:]])"
   ]
  },
  {
   "cell_type": "markdown",
   "metadata": {},
   "source": [
    "You can download SMILES with PubChem CID"
   ]
  },
  {
   "cell_type": "code",
   "execution_count": 15,
   "metadata": {},
   "outputs": [],
   "source": [
    "# SMILES of drug (should be listed)\n",
    "drugs = [get_smiles_from_cid(5291), get_smiles_from_cid(219024)]"
   ]
  },
  {
   "cell_type": "code",
   "execution_count": 16,
   "metadata": {},
   "outputs": [
    {
     "name": "stdout",
     "output_type": "stream",
     "text": [
      "['CC1=C(C=C(C=C1)NC(=O)C2=CC=C(C=C2)CN3CCN(CC3)C)NC4=NC=CC(=N4)C5=CN=CC=C5', 'CNC(=O)C1=CN(N=C1)C2=NC(=C3C(=N2)N(C=N3)C4C(C(C(O4)CO)O)O)N']\n"
     ]
    }
   ],
   "source": [
    "print(drugs)"
   ]
  },
  {
   "cell_type": "markdown",
   "metadata": {},
   "source": [
    "Also, you can download protein sequences with UniProt accession."
   ]
  },
  {
   "cell_type": "code",
   "execution_count": 17,
   "metadata": {},
   "outputs": [],
   "source": [
    "# Sequences (should be listed)\n",
    "\n",
    "targets = [get_seq_from_uniprot_acc(\"P00519\"), get_seq_from_uniprot_acc(\"P29274\")]"
   ]
  },
  {
   "cell_type": "code",
   "execution_count": 18,
   "metadata": {},
   "outputs": [
    {
     "name": "stdout",
     "output_type": "stream",
     "text": [
      "['MLEICLKLVGCKSKKGLSSSSSCYLEEALQRPVASDFEPQGLSEAARWNSKENLLAGPSENDPNLFVALYDFVASGDNTLSITKGEKLRVLGYNHNGEWCEAQTKNGQGWVPSNYITPVNSLEKHSWYHGPVSRNAAEYLLSSGINGSFLVRESESSPGQRSISLRYEGRVYHYRINTASDGKLYVSSESRFNTLAELVHHHSTVADGLITTLHYPAPKRNKPTVYGVSPNYDKWEMERTDITMKHKLGGGQYGEVYEGVWKKYSLTVAVKTLKEDTMEVEEFLKEAAVMKEIKHPNLVQLLGVCTREPPFYIITEFMTYGNLLDYLRECNRQEVNAVVLLYMATQISSAMEYLEKKNFIHRDLAARNCLVGENHLVKVADFGLSRLMTGDTYTAHAGAKFPIKWTAPESLAYNKFSIKSDVWAFGVLLWEIATYGMSPYPGIDLSQVYELLEKDYRMERPEGCPEKVYELMRACWQWNPSDRPSFAEIHQAFETMFQESSISDEVEKELGKQGVRGAVSTLLQAPELPTKTRTSRRAAEHRDTTDVPEMPHSKGQGESDPLDHEPAVSPLLPRKERGPPEGGLNEDERLLPKDKKTNLFSALIKKKKKTAPTPPKRSSSFREMDGQPERRGAGEEEGRDISNGALAFTPLDTADPAKSPKPSNGAGVPNGALRESGGSGFRSPHLWKKSSTLTSSRLATGEEEGGGSSSKRFLRSCSASCVPHGAKDTEWRSVTLPRDLQSTGRQFDSSTFGGHKSEKPALPRKRAGENRSDQVTRGTVTPPPRLVKKNEEAADEVFKDIMESSPGSSPPNLTPKPLRRQVTVAPASGLPHKEEAGKGSALGTPAAAEPVTPTSKAGSGAPGGTSKGPAEESRVRRHKHSSESPGRDKGKLSRLKPAPPPPPAASAGKAGGKPSQSPSQEAAGEAVLGAKTKATSLVDAVNSDAAKPSQPGEGLKKPVLPATPKPQSAKPSGTPISPAPVPSTLPSASSALAGDQPSSTAFIPLISTRVSLRKTRQPPERIASGAITKGVVLDSTEALCLAISRNSEQMASHSAVLEAGKNLYTFCVSYVDSIQQMRNKFAFREAINKLENNLRELQICPATAGSGPAATQDFSKLLSSVKEISDIVQR', 'MPIMGSSVYITVELAIAVLAILGNVLVCWAVWLNSNLQNVTNYFVVSLAAADIAVGVLAIPFAITISTGFCAACHGCLFIACFVLVLTQSSIFSLLAIAIDRYIAIRIPLRYNGLVTGTRAKGIIAICWVLSFAIGLTPMLGWNNCGQPKEGKNHSQGCGEGQVACLFEDVVPMNYMVYFNFFACVLVPLLLMLGVYLRIFLAARRQLKQMESQPLPGERARSTLQKEVHAAKSLAIIVGLFALCWLPLHIINCFTFFCPDCSHAPLWLMYLAIVLSHTNSVVNPFIYAYRIREFRQTFRKIIRSHVLRQQEPFKAAGTSARVLAAHGSDGEQVSLRLNGHPPGVWANGSAPHPERRPNGYALGLVSGGSAQESQGNTGLPDVELLSHELKGVCPEPPGLDDPLAQDGAGVS']\n"
     ]
    }
   ],
   "source": [
    "print(targets)"
   ]
  },
  {
   "cell_type": "markdown",
   "metadata": {},
   "source": [
    "You need to encode SMILES and sequences with a defined encoder."
   ]
  },
  {
   "cell_type": "code",
   "execution_count": 19,
   "metadata": {},
   "outputs": [],
   "source": [
    "drugs_fp = [compound_encoder.encode(drug) for drug in drugs]\n",
    "targets_encoded = [protein_encoder.encode(target) for target in targets]"
   ]
  },
  {
   "cell_type": "markdown",
   "metadata": {},
   "source": [
    "For protein sequences with different lengths, you need to pad sequence."
   ]
  },
  {
   "cell_type": "code",
   "execution_count": 20,
   "metadata": {},
   "outputs": [],
   "source": [
    "target_encoded = protein_encoder.pad(targets_encoded)"
   ]
  },
  {
   "cell_type": "markdown",
   "metadata": {},
   "source": [
    "### Prediction of DTIs"
   ]
  },
  {
   "cell_type": "markdown",
   "metadata": {},
   "source": [
    "you can simply predict DTIs with the `DTI_prediction` function of the `dti_model` object"
   ]
  },
  {
   "cell_type": "code",
   "execution_count": 21,
   "metadata": {},
   "outputs": [],
   "source": [
    "dti_prediction_results = dti_model.DTI_prediction(drugs_fp, targets_encoded)"
   ]
  },
  {
   "cell_type": "markdown",
   "metadata": {},
   "source": [
    "The model will result in [N, 1] shape prediction"
   ]
  },
  {
   "cell_type": "code",
   "execution_count": 22,
   "metadata": {},
   "outputs": [
    {
     "name": "stdout",
     "output_type": "stream",
     "text": [
      "[[0.92619896]\n",
      " [0.8873392 ]]\n"
     ]
    }
   ],
   "source": [
    "print(dti_prediction_results)"
   ]
  },
  {
   "cell_type": "markdown",
   "metadata": {},
   "source": [
    "### Prediction of BRs"
   ]
  },
  {
   "cell_type": "markdown",
   "metadata": {},
   "source": [
    "You can predict BRs with the `HoTS_prediction` function."
   ]
  },
  {
   "cell_type": "code",
   "execution_count": 23,
   "metadata": {
    "scrolled": false
   },
   "outputs": [],
   "source": [
    "dti_predictions,  br_predictions = dti_model.HoTS_prediction(drugs_fp, targets_encoded)"
   ]
  },
  {
   "cell_type": "markdown",
   "metadata": {},
   "source": [
    "BR prediction results contain a list of (BR_start, BR_end, confidence score) for each protein grid.\n",
    "\n",
    "Also, they are sorted by confidence score."
   ]
  },
  {
   "cell_type": "code",
   "execution_count": 24,
   "metadata": {},
   "outputs": [
    {
     "name": "stdout",
     "output_type": "stream",
     "text": [
      "[(367, 385, 0.7754790186882019), (359, 373, 0.7527496218681335), (308, 324, 0.7307592630386353), (249, 264, 0.7113943099975586), (288, 303, 0.7104097604751587), (315, 330, 0.6692482233047485), (281, 294, 0.6628872156143188), (299, 312, 0.6184608936309814), (378, 390, 0.6164246201515198), (350, 364, 0.6097195148468018)]\n"
     ]
    }
   ],
   "source": [
    "print(br_predictions[0][0:10])"
   ]
  },
  {
   "cell_type": "markdown",
   "metadata": {},
   "source": [
    "### Visualization of BR predictions"
   ]
  },
  {
   "cell_type": "markdown",
   "metadata": {},
   "source": [
    "You can visualize results with the `HoTS_visualization` function, but you need to give a list of names for each visualiztion.\n",
    "\n",
    "You need to put names DTI pairs."
   ]
  },
  {
   "cell_type": "code",
   "execution_count": 25,
   "metadata": {},
   "outputs": [],
   "source": [
    "names = [\"ABL1_imatinib\", \"AA2AR_Regadenoson\"]"
   ]
  },
  {
   "cell_type": "code",
   "execution_count": 26,
   "metadata": {},
   "outputs": [
    {
     "name": "stdout",
     "output_type": "stream",
     "text": [
      "Prediction with 0.600000\n",
      "ABL1_imatinib\n",
      "DTI score :  [0.92619896]\n",
      "  Sequence : MLEICLKLVGCKSKKGLSSSSSCYLEEALQRPVASDFEPQGLSEAARWNSKENLLAGPSENDPNLFVALYDFVASGDNTLSITKGEKLRVLGYNHNGEWC\n",
      "Prediction :                                                                                                     \n",
      "     Score :                                                                                                     \n",
      "  Sequence : EAQTKNGQGWVPSNYITPVNSLEKHSWYHGPVSRNAAEYLLSSGINGSFLVRESESSPGQRSISLRYEGRVYHYRINTASDGKLYVSSESRFNTLAELVH\n",
      "Prediction :                                                                                                     \n",
      "     Score :                                                                                                     \n",
      "  Sequence : HHSTVADGLITTLHYPAPKRNKPTVYGVSPNYDKWEMERTDITMKHKLGGGQYGEVYEGVWKKYSLTVAVKTLKEDTMEVEEFLKEAAVMKEIKHPNLVQ\n",
      "Prediction :                                                  GGQYGEVYEGVWKKYSLTVAVKTL        EFLKEAAVMKEIKHPNLVQ\n",
      "     Score :                                                  71%      60%                    66%    71%        6\n",
      "  Sequence : LLGVCTREPPFYIITEFMTYGNLLDYLRECNRQEVNAVVLLYMATQISSAMEYLEKKNFIHRDLAARNCLVGENHLVKVADFGLSRLMTGDTYTAHAGAK\n",
      "Prediction : LLGVCTREPPFYIITEFMTYGNLLDYLREC                    MEYLEKKNFIHRDLAARNCLVGENHLVKVADFGLSRLMTG          \n",
      "     Score : 1%      73%    66%                                60%      75%     77%        61%                   \n",
      "  Sequence : FPIKWTAPESLAYNKFSIKSDVWAFGVLLWEIATYGMSPYPGIDLSQVYELLEKDYRMERPEGCPEKVYELMRACWQWNPSDRPSFAEIHQAFETMFQES\n",
      "Prediction :                                                                                                     \n",
      "     Score :                                                                                                     \n",
      "  Sequence : SISDEVEKELGKQGVRGAVSTLLQAPELPTKTRTSRRAAEHRDTTDVPEMPHSKGQGESDPLDHEPAVSPLLPRKERGPPEGGLNEDERLLPKDKKTNLF\n",
      "Prediction :                                                                                                     \n",
      "     Score :                                                                                                     \n",
      "  Sequence : SALIKKKKKTAPTPPKRSSSFREMDGQPERRGAGEEEGRDISNGALAFTPLDTADPAKSPKPSNGAGVPNGALRESGGSGFRSPHLWKKSSTLTSSRLAT\n",
      "Prediction :                                                                                                     \n",
      "     Score :                                                                                                     \n",
      "  Sequence : GEEEGGGSSSKRFLRSCSASCVPHGAKDTEWRSVTLPRDLQSTGRQFDSSTFGGHKSEKPALPRKRAGENRSDQVTRGTVTPPPRLVKKNEEAADEVFKD\n",
      "Prediction :                                                                                                     \n",
      "     Score :                                                                                                     \n",
      "  Sequence : IMESSPGSSPPNLTPKPLRRQVTVAPASGLPHKEEAGKGSALGTPAAAEPVTPTSKAGSGAPGGTSKGPAEESRVRRHKHSSESPGRDKGKLSRLKPAPP\n",
      "Prediction :                                                                                                     \n",
      "     Score :                                                                                                     \n",
      "  Sequence : PPPAASAGKAGGKPSQSPSQEAAGEAVLGAKTKATSLVDAVNSDAAKPSQPGEGLKKPVLPATPKPQSAKPSGTPISPAPVPSTLPSASSALAGDQPSST\n",
      "Prediction :                                                                                                     \n",
      "     Score :                                                                                                     \n",
      "  Sequence : AFIPLISTRVSLRKTRQPPERIASGAITKGVVLDSTEALCLAISRNSEQMASHSAVLEAGKNLYTFCVSYVDSIQQMRNKFAFREAINKLENNLRELQIC\n",
      "Prediction :                                                                                                     \n",
      "     Score :                                                                                                     \n",
      "  Sequence : PATAGSGPAATQDFSKLLSSVKEISDIVQR\n",
      "Prediction :                               \n",
      "     Score :                               \n",
      "AA2AR_Regadenoson\n",
      "DTI score :  [0.8873392]\n",
      "  Sequence : MPIMGSSVYITVELAIAVLAILGNVLVCWAVWLNSNLQNVTNYFVVSLAAADIAVGVLAIPFAITISTGFCAACHGCLFIACFVLVLTQSSIFSLLAIAI\n",
      "Prediction :                                                             PFAITISTGFCAACHGCLFIACFVLVLTQSSIF       \n",
      "     Score :                                                             66%   62%          60%                  \n",
      "  Sequence : DRYIAIRIPLRYNGLVTGTRAKGIIAICWVLSFAIGLTPMLGWNNCGQPKEGKNHSQGCGEGQVACLFEDVVPMNYMVYFNFFACVLVPLLLMLGVYLRI\n",
      "Prediction :                 TGTRAKGIIAICWV                                     FEDVVPMNYMVYFNFFACVLVPLLLM       \n",
      "     Score :                 67%                                                68%        72%                   \n",
      "  Sequence : FLAARRQLKQMESQPLPGERARSTLQKEVHAAKSLAIIVGLFALCWLPLHIINCFTFFCPDCSHAPLWLMYLAIVLSHTNSVVNPFIYAYRIREFRQTFR\n",
      "Prediction :                                AKSLAIIVGLFALCWLPL       FFCPDCSHAPLWLM      SHTNSVVNPFIYAY          \n",
      "     Score :                                61%  60%                 71%                 65%                     \n",
      "  Sequence : KIIRSHVLRQQEPFKAAGTSARVLAAHGSDGEQVSLRLNGHPPGVWANGSAPHPERRPNGYALGLVSGGSAQESQGNTGLPDVELLSHELKGVCPEPPGL\n",
      "Prediction :                             SDGEQVSLRLNGH                   YALGLVSGGSAQE                           \n",
      "     Score :                             60%                             60%                                     \n",
      "  Sequence : DDPLAQDGAGVS\n",
      "Prediction :             \n",
      "     Score :             \n"
     ]
    }
   ],
   "source": [
    "dti_model.HoTS_visualization(drugs_fp, targets_encoded, targets, protein_names=names, th=0.6)"
   ]
  },
  {
   "cell_type": "code",
   "execution_count": null,
   "metadata": {},
   "outputs": [],
   "source": []
  }
 ],
 "metadata": {
  "kernelspec": {
   "display_name": "Python 3",
   "language": "python",
   "name": "python3"
  },
  "language_info": {
   "codemirror_mode": {
    "name": "ipython",
    "version": 3
   },
   "file_extension": ".py",
   "mimetype": "text/x-python",
   "name": "python",
   "nbconvert_exporter": "python",
   "pygments_lexer": "ipython3",
   "version": "3.6.8"
  }
 },
 "nbformat": 4,
 "nbformat_minor": 2
}